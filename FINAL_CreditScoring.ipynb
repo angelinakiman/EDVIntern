{
 "cells": [
  {
   "cell_type": "markdown",
   "metadata": {},
   "source": [
    "<center><img src=\"https://estakapital.co.id/assets/img/logo-dark1.png\" width=30% title=\"ESTA Logo\"></center>"
   ]
  },
  {
   "cell_type": "markdown",
   "metadata": {},
   "source": [
    "### CREDIT SCORING ANALYSIS"
   ]
  },
  {
   "cell_type": "markdown",
   "metadata": {},
   "source": [
    "##### One of the challenges that the company is facing is establishing a credible credit ranking system. The goals of this project is to improve the current credit ranking system by analyzing the collected data for greater resource use efficiency.\n",
    "\n",
    "This project will not only explore:\n",
    "1. Key Performance Metrics that influence a borrower's credit score (e.g. home ownership, marital status, loan amount, etc.)\n",
    "2. Actual CS EKF vs. Predicted CS EKF\n",
    "3. Aging trigger point that should be considered as \"bad debt\""
   ]
  },
  {
   "cell_type": "code",
   "execution_count": 1,
   "metadata": {},
   "outputs": [],
   "source": [
    "# Data processing\n",
    "import pandas as pd\n",
    "# Linear algebra\n",
    "import numpy as np\n",
    "\n",
    "# Visualization tools\n",
    "import matplotlib.pyplot as plt\n",
    "import seaborn as sns\n",
    "%matplotlib inline\n",
    "\n",
    "# Data splitting & parameter tuning\n",
    "from sklearn.model_selection import train_test_split\n",
    "from sklearn.model_selection import cross_val_predict\n",
    "from sklearn.model_selection import cross_val_score\n",
    "from sklearn.model_selection import GridSearchCV\n",
    "\n",
    "# ML Models\n",
    "from sklearn.ensemble import RandomForestClassifier\n",
    "from sklearn.linear_model import LogisticRegression\n",
    "from sklearn.svm import SVC\n",
    "from sklearn.naive_bayes import GaussianNB\n",
    "from sklearn.neighbors import KNeighborsClassifier\n",
    "from sklearn import tree\n",
    "from sklearn.tree import DecisionTreeClassifier\n",
    "from sklearn.tree import export_graphviz\n",
    "from sklearn.ensemble import GradientBoostingClassifier\n",
    "\n",
    "# Feature selection\n",
    "from sklearn.feature_selection import SelectPercentile, chi2\n",
    "from sklearn.feature_selection import SelectKBest\n",
    "from sklearn.feature_selection import chi2\n",
    "from sklearn.ensemble import ExtraTreesClassifier\n",
    "\n",
    "# Evaluation metrics\n",
    "from sklearn import metrics\n",
    "from sklearn.metrics import confusion_matrix\n",
    "from sklearn.metrics import classification_report\n",
    "from sklearn.metrics import roc_curve, auc, roc_auc_score\n",
    "from sklearn.metrics import accuracy_score\n",
    "\n",
    "# Further processing\n",
    "from sklearn.preprocessing import StandardScaler\n",
    "from sklearn.preprocessing import LabelEncoder"
   ]
  },
  {
   "cell_type": "markdown",
   "metadata": {},
   "source": [
    "#### Data Exploration"
   ]
  },
  {
   "cell_type": "code",
   "execution_count": 2,
   "metadata": {},
   "outputs": [
    {
     "data": {
      "text/html": [
       "<div>\n",
       "<style scoped>\n",
       "    .dataframe tbody tr th:only-of-type {\n",
       "        vertical-align: middle;\n",
       "    }\n",
       "\n",
       "    .dataframe tbody tr th {\n",
       "        vertical-align: top;\n",
       "    }\n",
       "\n",
       "    .dataframe thead th {\n",
       "        text-align: right;\n",
       "    }\n",
       "</style>\n",
       "<table border=\"1\" class=\"dataframe\">\n",
       "  <thead>\n",
       "    <tr style=\"text-align: right;\">\n",
       "      <th></th>\n",
       "      <th>Draft Code Borrower</th>\n",
       "      <th>Borrower ID</th>\n",
       "      <th>Name</th>\n",
       "      <th>No Submission of Contract</th>\n",
       "      <th>Business Sector</th>\n",
       "      <th>Type of Business</th>\n",
       "      <th>State</th>\n",
       "      <th>Issue Date</th>\n",
       "      <th>Loan Amount</th>\n",
       "      <th>Interest [%]</th>\n",
       "      <th>...</th>\n",
       "      <th>CS EDV</th>\n",
       "      <th>CS EKF</th>\n",
       "      <th>Projected Returns</th>\n",
       "      <th>Gender</th>\n",
       "      <th>DOB</th>\n",
       "      <th>Marital Status</th>\n",
       "      <th>Home Ownership</th>\n",
       "      <th>Length of Stay</th>\n",
       "      <th>Loan Purpose</th>\n",
       "      <th>Another Loan</th>\n",
       "    </tr>\n",
       "  </thead>\n",
       "  <tbody>\n",
       "    <tr>\n",
       "      <th>0</th>\n",
       "      <td>D19008838</td>\n",
       "      <td>B1907000188</td>\n",
       "      <td>SILVANA BAKARI</td>\n",
       "      <td>027.0719.0013</td>\n",
       "      <td>PERDAGANGAN</td>\n",
       "      <td>DAGANG BENSIN</td>\n",
       "      <td>GORONTALO UTARA</td>\n",
       "      <td>03-07-19</td>\n",
       "      <td>3,910,000</td>\n",
       "      <td>12</td>\n",
       "      <td>...</td>\n",
       "      <td>3</td>\n",
       "      <td>B</td>\n",
       "      <td>318,213</td>\n",
       "      <td>P</td>\n",
       "      <td>30-04-83</td>\n",
       "      <td>KAWIN</td>\n",
       "      <td>MILIK SENDIRI</td>\n",
       "      <td>10</td>\n",
       "      <td>MENAMBAH MODAL USAHA</td>\n",
       "      <td>NO</td>\n",
       "    </tr>\n",
       "    <tr>\n",
       "      <th>1</th>\n",
       "      <td>D19008837</td>\n",
       "      <td>B1907000187</td>\n",
       "      <td>MARIANA WOGONO</td>\n",
       "      <td>054.0719.0044</td>\n",
       "      <td>PERDAGANGAN</td>\n",
       "      <td>JUALAN IKAN</td>\n",
       "      <td>HALMAHERA UTARA</td>\n",
       "      <td>03-07-19</td>\n",
       "      <td>3,410,000</td>\n",
       "      <td>12</td>\n",
       "      <td>...</td>\n",
       "      <td>3</td>\n",
       "      <td>B</td>\n",
       "      <td>355,426</td>\n",
       "      <td>P</td>\n",
       "      <td>25-09-78</td>\n",
       "      <td>KAWIN</td>\n",
       "      <td>MILIK SENDIRI</td>\n",
       "      <td>7</td>\n",
       "      <td>MENAMBAH MODAL USAHA</td>\n",
       "      <td>NO</td>\n",
       "    </tr>\n",
       "    <tr>\n",
       "      <th>2</th>\n",
       "      <td>D19008836</td>\n",
       "      <td>B1907000186</td>\n",
       "      <td>KINAH</td>\n",
       "      <td>029.0719.0003</td>\n",
       "      <td>PERDAGANGAN</td>\n",
       "      <td>WARUNG JAJANAN DAN PEMANCINGAN</td>\n",
       "      <td>KARAWANG</td>\n",
       "      <td>03-07-19</td>\n",
       "      <td>4,910,000</td>\n",
       "      <td>12</td>\n",
       "      <td>...</td>\n",
       "      <td>3</td>\n",
       "      <td>B</td>\n",
       "      <td>399,598</td>\n",
       "      <td>P</td>\n",
       "      <td>13-04-72</td>\n",
       "      <td>KAWIN</td>\n",
       "      <td>MILIK SENDIRI</td>\n",
       "      <td>8</td>\n",
       "      <td>MENAMBAH MODAL USAHA</td>\n",
       "      <td>YES</td>\n",
       "    </tr>\n",
       "  </tbody>\n",
       "</table>\n",
       "<p>3 rows × 23 columns</p>\n",
       "</div>"
      ],
      "text/plain": [
       "  Draft Code Borrower  Borrower ID            Name No Submission of Contract  \\\n",
       "0           D19008838  B1907000188  SILVANA BAKARI             027.0719.0013   \n",
       "1           D19008837  B1907000187  MARIANA WOGONO             054.0719.0044   \n",
       "2           D19008836  B1907000186           KINAH             029.0719.0003   \n",
       "\n",
       "  Business Sector                Type of Business            State Issue Date  \\\n",
       "0     PERDAGANGAN                   DAGANG BENSIN  GORONTALO UTARA   03-07-19   \n",
       "1     PERDAGANGAN                     JUALAN IKAN  HALMAHERA UTARA   03-07-19   \n",
       "2     PERDAGANGAN  WARUNG JAJANAN DAN PEMANCINGAN         KARAWANG   03-07-19   \n",
       "\n",
       "  Loan Amount  Interest [%]  ...  CS EDV CS EKF Projected Returns  Gender  \\\n",
       "0   3,910,000            12  ...       3      B           318,213       P   \n",
       "1   3,410,000            12  ...       3      B           355,426       P   \n",
       "2   4,910,000            12  ...       3      B           399,598       P   \n",
       "\n",
       "        DOB Marital Status Home Ownership Length of Stay  \\\n",
       "0  30-04-83          KAWIN  MILIK SENDIRI             10   \n",
       "1  25-09-78          KAWIN  MILIK SENDIRI              7   \n",
       "2  13-04-72          KAWIN  MILIK SENDIRI              8   \n",
       "\n",
       "           Loan Purpose Another Loan  \n",
       "0  MENAMBAH MODAL USAHA           NO  \n",
       "1  MENAMBAH MODAL USAHA           NO  \n",
       "2  MENAMBAH MODAL USAHA          YES  \n",
       "\n",
       "[3 rows x 23 columns]"
      ]
     },
     "execution_count": 2,
     "metadata": {},
     "output_type": "execute_result"
    }
   ],
   "source": [
    "# Import the dataset\n",
    "data = pd.read_csv('BorrowerReport.csv')\n",
    "\n",
    "# Show the first 2 lines to verify that we have imported the dataset correctly \n",
    "data.head(3)"
   ]
  },
  {
   "cell_type": "code",
   "execution_count": 3,
   "metadata": {},
   "outputs": [
    {
     "data": {
      "text/html": [
       "<div>\n",
       "<style scoped>\n",
       "    .dataframe tbody tr th:only-of-type {\n",
       "        vertical-align: middle;\n",
       "    }\n",
       "\n",
       "    .dataframe tbody tr th {\n",
       "        vertical-align: top;\n",
       "    }\n",
       "\n",
       "    .dataframe thead th {\n",
       "        text-align: right;\n",
       "    }\n",
       "</style>\n",
       "<table border=\"1\" class=\"dataframe\">\n",
       "  <thead>\n",
       "    <tr style=\"text-align: right;\">\n",
       "      <th></th>\n",
       "      <th>Draft Code Borrower</th>\n",
       "      <th>Borrower ID</th>\n",
       "      <th>Name</th>\n",
       "      <th>No Submission of Contract</th>\n",
       "      <th>Business Sector</th>\n",
       "      <th>Type of Business</th>\n",
       "      <th>State</th>\n",
       "      <th>Issue Date</th>\n",
       "      <th>Loan Amount</th>\n",
       "      <th>Interest [%]</th>\n",
       "      <th>...</th>\n",
       "      <th>CS EDV</th>\n",
       "      <th>CS EKF</th>\n",
       "      <th>Projected Returns</th>\n",
       "      <th>Gender</th>\n",
       "      <th>DOB</th>\n",
       "      <th>Marital Status</th>\n",
       "      <th>Home Ownership</th>\n",
       "      <th>Length of Stay</th>\n",
       "      <th>Loan Purpose</th>\n",
       "      <th>Another Loan</th>\n",
       "    </tr>\n",
       "  </thead>\n",
       "  <tbody>\n",
       "    <tr>\n",
       "      <th>16173</th>\n",
       "      <td>D18000002</td>\n",
       "      <td>B1802000002</td>\n",
       "      <td>UNUY MARTINI</td>\n",
       "      <td>012.0218.0024</td>\n",
       "      <td>INDUSTRI</td>\n",
       "      <td>KONPEKSI</td>\n",
       "      <td>BEKASI</td>\n",
       "      <td>06-02-18</td>\n",
       "      <td>4,300,000</td>\n",
       "      <td>10</td>\n",
       "      <td>...</td>\n",
       "      <td>3</td>\n",
       "      <td>B</td>\n",
       "      <td>284,461</td>\n",
       "      <td>P</td>\n",
       "      <td>18-02-71</td>\n",
       "      <td>KAWIN</td>\n",
       "      <td>NaN</td>\n",
       "      <td>NaN</td>\n",
       "      <td>NaN</td>\n",
       "      <td>NaN</td>\n",
       "    </tr>\n",
       "    <tr>\n",
       "      <th>16174</th>\n",
       "      <td>D18000001</td>\n",
       "      <td>B1802000001</td>\n",
       "      <td>IYOM</td>\n",
       "      <td>012.0218.0021</td>\n",
       "      <td>PERDAGANGAN</td>\n",
       "      <td>JUAL GORENGAN</td>\n",
       "      <td>BEKASI</td>\n",
       "      <td>06-02-18</td>\n",
       "      <td>4,300,000</td>\n",
       "      <td>10</td>\n",
       "      <td>...</td>\n",
       "      <td>3</td>\n",
       "      <td>B</td>\n",
       "      <td>284,461</td>\n",
       "      <td>P</td>\n",
       "      <td>04-01-75</td>\n",
       "      <td>KAWIN</td>\n",
       "      <td>NaN</td>\n",
       "      <td>NaN</td>\n",
       "      <td>NaN</td>\n",
       "      <td>NaN</td>\n",
       "    </tr>\n",
       "  </tbody>\n",
       "</table>\n",
       "<p>2 rows × 23 columns</p>\n",
       "</div>"
      ],
      "text/plain": [
       "      Draft Code Borrower  Borrower ID          Name  \\\n",
       "16173           D18000002  B1802000002  UNUY MARTINI   \n",
       "16174           D18000001  B1802000001          IYOM   \n",
       "\n",
       "      No Submission of Contract Business Sector Type of Business   State  \\\n",
       "16173             012.0218.0024        INDUSTRI         KONPEKSI  BEKASI   \n",
       "16174             012.0218.0021     PERDAGANGAN    JUAL GORENGAN  BEKASI   \n",
       "\n",
       "      Issue Date Loan Amount  Interest [%]  ...  CS EDV CS EKF  \\\n",
       "16173   06-02-18   4,300,000            10  ...       3      B   \n",
       "16174   06-02-18   4,300,000            10  ...       3      B   \n",
       "\n",
       "      Projected Returns  Gender       DOB Marital Status Home Ownership  \\\n",
       "16173           284,461       P  18-02-71          KAWIN            NaN   \n",
       "16174           284,461       P  04-01-75          KAWIN            NaN   \n",
       "\n",
       "      Length of Stay Loan Purpose Another Loan  \n",
       "16173            NaN          NaN          NaN  \n",
       "16174            NaN          NaN          NaN  \n",
       "\n",
       "[2 rows x 23 columns]"
      ]
     },
     "execution_count": 3,
     "metadata": {},
     "output_type": "execute_result"
    }
   ],
   "source": [
    "# Show the last 2 lines just to be sure!\n",
    "data.tail(2)"
   ]
  },
  {
   "cell_type": "code",
   "execution_count": 4,
   "metadata": {},
   "outputs": [
    {
     "name": "stdout",
     "output_type": "stream",
     "text": [
      "<class 'pandas.core.frame.DataFrame'>\n",
      "RangeIndex: 16175 entries, 0 to 16174\n",
      "Data columns (total 23 columns):\n",
      "Draft Code Borrower             16175 non-null object\n",
      "Borrower ID                     16175 non-null object\n",
      "Name                            16175 non-null object\n",
      "No Submission of Contract       16175 non-null object\n",
      "Business Sector                 16175 non-null object\n",
      "Type of Business                16175 non-null object\n",
      "State                           16175 non-null object\n",
      "Issue Date                      16175 non-null object\n",
      "Loan Amount                     16175 non-null object\n",
      "Interest [%]                    16175 non-null int64\n",
      "Maturity                        16175 non-null int64\n",
      "Maturity Type                   16175 non-null object\n",
      "Length of Business Ownership    15757 non-null object\n",
      "CS EDV                          16175 non-null int64\n",
      "CS EKF                          16175 non-null object\n",
      "Projected Returns               16175 non-null object\n",
      "Gender                          16175 non-null object\n",
      "DOB                             16175 non-null object\n",
      "Marital Status                  16175 non-null object\n",
      "Home Ownership                  7393 non-null object\n",
      "Length of Stay                  7393 non-null object\n",
      "Loan Purpose                    7393 non-null object\n",
      "Another Loan                    7393 non-null object\n",
      "dtypes: int64(3), object(20)\n",
      "memory usage: 2.8+ MB\n"
     ]
    }
   ],
   "source": [
    "# Checking the type of data in each column\n",
    "data.info()"
   ]
  },
  {
   "cell_type": "code",
   "execution_count": 5,
   "metadata": {},
   "outputs": [],
   "source": [
    "# Dropping unrelevant features\n",
    "data.drop(['Borrower ID', 'Draft Code Borrower', 'Name', 'No Submission of Contract', 'Type of Business', \n",
    "           'Issue Date', 'DOB', 'Projected Returns', 'CS EDV', 'Maturity Type'], axis=1, inplace=True)"
   ]
  },
  {
   "cell_type": "code",
   "execution_count": 6,
   "metadata": {},
   "outputs": [],
   "source": [
    "# Convert the string number value to a float \n",
    "# Remove $, Remove Commas, Convert to a float type\n",
    "\n",
    "def convert_currency(val):\n",
    "    new_val = val.replace(',','').replace('$', '')\n",
    "    return float(new_val)\n",
    "\n",
    "data['Loan Amount'] = data['Loan Amount'].apply(convert_currency)"
   ]
  },
  {
   "cell_type": "code",
   "execution_count": 7,
   "metadata": {},
   "outputs": [
    {
     "name": "stdout",
     "output_type": "stream",
     "text": [
      "<class 'pandas.core.frame.DataFrame'>\n",
      "RangeIndex: 16175 entries, 0 to 16174\n",
      "Data columns (total 13 columns):\n",
      "Business Sector                 16175 non-null object\n",
      "State                           16175 non-null object\n",
      "Loan Amount                     16175 non-null float64\n",
      "Interest [%]                    16175 non-null int64\n",
      "Maturity                        16175 non-null int64\n",
      "Length of Business Ownership    15757 non-null object\n",
      "CS EKF                          16175 non-null object\n",
      "Gender                          16175 non-null object\n",
      "Marital Status                  16175 non-null object\n",
      "Home Ownership                  7393 non-null object\n",
      "Length of Stay                  7393 non-null object\n",
      "Loan Purpose                    7393 non-null object\n",
      "Another Loan                    7393 non-null object\n",
      "dtypes: float64(1), int64(2), object(10)\n",
      "memory usage: 1.6+ MB\n"
     ]
    }
   ],
   "source": [
    "# Check the data type of Loan Amount has been converted\n",
    "data.info()"
   ]
  },
  {
   "cell_type": "code",
   "execution_count": 8,
   "metadata": {},
   "outputs": [
    {
     "data": {
      "text/plain": [
       "Business Sector                    0\n",
       "State                              0\n",
       "Loan Amount                        0\n",
       "Interest [%]                       0\n",
       "Maturity                           0\n",
       "Length of Business Ownership     418\n",
       "CS EKF                             0\n",
       "Gender                             0\n",
       "Marital Status                     0\n",
       "Home Ownership                  8782\n",
       "Length of Stay                  8782\n",
       "Loan Purpose                    8782\n",
       "Another Loan                    8782\n",
       "dtype: int64"
      ]
     },
     "execution_count": 8,
     "metadata": {},
     "output_type": "execute_result"
    }
   ],
   "source": [
    "# Checking if there is a null value\n",
    "data.isna().sum()"
   ]
  },
  {
   "cell_type": "code",
   "execution_count": 9,
   "metadata": {},
   "outputs": [],
   "source": [
    "# Dropping the null values data\n",
    "data = data.dropna()"
   ]
  },
  {
   "cell_type": "code",
   "execution_count": 10,
   "metadata": {},
   "outputs": [
    {
     "name": "stdout",
     "output_type": "stream",
     "text": [
      "Number of rows in the dataset:  7377\n",
      "Number of columns in the dataset:  13\n"
     ]
    }
   ],
   "source": [
    "# Determining number of rows and columns in the dataset\n",
    "print('Number of rows in the dataset: ',data.shape[0])\n",
    "print('Number of columns in the dataset: ',data.shape[1])"
   ]
  },
  {
   "cell_type": "code",
   "execution_count": 11,
   "metadata": {},
   "outputs": [
    {
     "data": {
      "image/png": "[encoded data removed]",
      "text/plain": [
       "<Figure size 1800x288 with 1 Axes>"
      ]
     },
     "metadata": {
      "needs_background": "light"
     },
     "output_type": "display_data"
    }
   ],
   "source": [
    "# Visualizing the CS EKF distribution of our dataset\n",
    "fig = plt.figure(figsize=(25,4))\n",
    "sns.countplot(y='CS EKF', data=data,\n",
    "             order=[\"A+\", \"A\", \"A-\", \"B+\", \"B\", \"B-\", \"C+\", \"C\"]) \n",
    "plt.show()"
   ]
  },
  {
   "cell_type": "code",
   "execution_count": 12,
   "metadata": {},
   "outputs": [
    {
     "data": {
      "image/png": "[encoded data removed]",
      "text/plain": [
       "<Figure size 360x360 with 1 Axes>"
      ]
     },
     "metadata": {
      "needs_background": "light"
     },
     "output_type": "display_data"
    }
   ],
   "source": [
    "# Visualizing the Maturity distribution of our dataset\n",
    "fig = plt.figure(figsize=(5,5))\n",
    "sns.countplot(x='Maturity', data=data) \n",
    "plt.show()"
   ]
  },
  {
   "cell_type": "code",
   "execution_count": 13,
   "metadata": {},
   "outputs": [
    {
     "data": {
      "image/png": "[encoded data removed]",
      "text/plain": [
       "<Figure size 1800x288 with 1 Axes>"
      ]
     },
     "metadata": {
      "needs_background": "light"
     },
     "output_type": "display_data"
    }
   ],
   "source": [
    "# Visualizing the Business Sector distribution of our dataset\n",
    "fig = plt.figure(figsize=(25,4))\n",
    "sns.countplot(y='Business Sector', data=data)\n",
    "plt.show()"
   ]
  },
  {
   "cell_type": "code",
   "execution_count": 14,
   "metadata": {},
   "outputs": [
    {
     "data": {
      "text/plain": [
       "<matplotlib.axes._subplots.AxesSubplot at 0x24a2af335c0>"
      ]
     },
     "execution_count": 14,
     "metadata": {},
     "output_type": "execute_result"
    },
    {
     "data": {
      "image/png": "[encoded data removed]",
      "text/plain": [
       "<Figure size 1800x288 with 1 Axes>"
      ]
     },
     "metadata": {
      "needs_background": "light"
     },
     "output_type": "display_data"
    }
   ],
   "source": [
    "# Visualizing the CS EKF and Interest Rate distribution of our dataset\n",
    "fig = plt.figure(figsize=(25,4))\n",
    "sns.barplot(x='Interest [%]', y='CS EKF', data=data,\n",
    "           order=[\"A+\", \"A\", \"A-\", \"B+\", \"B\", \"B-\", \"C+\", \"C\"])"
   ]
  },
  {
   "cell_type": "code",
   "execution_count": 15,
   "metadata": {},
   "outputs": [
    {
     "data": {
      "image/png": "[encoded data removed]",
      "text/plain": [
       "<Figure size 288x288 with 1 Axes>"
      ]
     },
     "metadata": {
      "needs_background": "light"
     },
     "output_type": "display_data"
    }
   ],
   "source": [
    "# Visualizing the Gender Sector distribution of our dataset\n",
    "fig = plt.figure(figsize=(4,4))\n",
    "sns.countplot(x='Gender', data=data) \n",
    "plt.show()"
   ]
  },
  {
   "cell_type": "code",
   "execution_count": 16,
   "metadata": {},
   "outputs": [],
   "source": [
    "# Replace ' - ' value to 0 and interger\n",
    "data['Length of Stay'] = data['Length of Stay'].replace({' - ':0}).astype(int)"
   ]
  },
  {
   "cell_type": "code",
   "execution_count": 17,
   "metadata": {},
   "outputs": [],
   "source": [
    "## Importing Regular Expression\n",
    "import re"
   ]
  },
  {
   "cell_type": "code",
   "execution_count": 18,
   "metadata": {},
   "outputs": [],
   "source": [
    "# Creating formula from Years to Months (1 Year = 12 Months)\n",
    "def parse_length(x):\n",
    "    words = x.split()\n",
    "    out = 0\n",
    "    for i in range(0,len(words),2):\n",
    "        if words[i+1] == 'Tahun':\n",
    "            out += int(words[i])*12\n",
    "        elif words[i+1] == 'Buan':\n",
    "            out += int(words[i])\n",
    "    return out"
   ]
  },
  {
   "cell_type": "code",
   "execution_count": 19,
   "metadata": {},
   "outputs": [],
   "source": [
    "# Convert 'Years' into 'Months'\n",
    "data['Length of Business Ownership'] = data['Length of Business Ownership'].apply(parse_length)"
   ]
  },
  {
   "cell_type": "code",
   "execution_count": 20,
   "metadata": {},
   "outputs": [
    {
     "data": {
      "text/html": [
       "<div>\n",
       "<style scoped>\n",
       "    .dataframe tbody tr th:only-of-type {\n",
       "        vertical-align: middle;\n",
       "    }\n",
       "\n",
       "    .dataframe tbody tr th {\n",
       "        vertical-align: top;\n",
       "    }\n",
       "\n",
       "    .dataframe thead th {\n",
       "        text-align: right;\n",
       "    }\n",
       "</style>\n",
       "<table border=\"1\" class=\"dataframe\">\n",
       "  <thead>\n",
       "    <tr style=\"text-align: right;\">\n",
       "      <th></th>\n",
       "      <th>Loan Amount</th>\n",
       "      <th>Interest [%]</th>\n",
       "      <th>Maturity</th>\n",
       "      <th>Length of Business Ownership</th>\n",
       "      <th>Length of Stay</th>\n",
       "    </tr>\n",
       "  </thead>\n",
       "  <tbody>\n",
       "    <tr>\n",
       "      <th>count</th>\n",
       "      <td>7.377000e+03</td>\n",
       "      <td>7377.000000</td>\n",
       "      <td>7377.000000</td>\n",
       "      <td>7377.000000</td>\n",
       "      <td>7377.000000</td>\n",
       "    </tr>\n",
       "    <tr>\n",
       "      <th>mean</th>\n",
       "      <td>3.813108e+06</td>\n",
       "      <td>12.029822</td>\n",
       "      <td>39.425918</td>\n",
       "      <td>75.183543</td>\n",
       "      <td>21.116307</td>\n",
       "    </tr>\n",
       "    <tr>\n",
       "      <th>std</th>\n",
       "      <td>6.365609e+05</td>\n",
       "      <td>0.932616</td>\n",
       "      <td>2.883864</td>\n",
       "      <td>80.365198</td>\n",
       "      <td>14.866352</td>\n",
       "    </tr>\n",
       "    <tr>\n",
       "      <th>min</th>\n",
       "      <td>2.300000e+06</td>\n",
       "      <td>8.000000</td>\n",
       "      <td>25.000000</td>\n",
       "      <td>1.000000</td>\n",
       "      <td>0.000000</td>\n",
       "    </tr>\n",
       "    <tr>\n",
       "      <th>25%</th>\n",
       "      <td>3.360000e+06</td>\n",
       "      <td>12.000000</td>\n",
       "      <td>40.000000</td>\n",
       "      <td>24.000000</td>\n",
       "      <td>8.000000</td>\n",
       "    </tr>\n",
       "    <tr>\n",
       "      <th>50%</th>\n",
       "      <td>3.860000e+06</td>\n",
       "      <td>12.000000</td>\n",
       "      <td>40.000000</td>\n",
       "      <td>48.000000</td>\n",
       "      <td>20.000000</td>\n",
       "    </tr>\n",
       "    <tr>\n",
       "      <th>75%</th>\n",
       "      <td>4.360000e+06</td>\n",
       "      <td>12.000000</td>\n",
       "      <td>40.000000</td>\n",
       "      <td>96.000000</td>\n",
       "      <td>30.000000</td>\n",
       "    </tr>\n",
       "    <tr>\n",
       "      <th>max</th>\n",
       "      <td>6.650000e+06</td>\n",
       "      <td>15.000000</td>\n",
       "      <td>50.000000</td>\n",
       "      <td>876.000000</td>\n",
       "      <td>110.000000</td>\n",
       "    </tr>\n",
       "  </tbody>\n",
       "</table>\n",
       "</div>"
      ],
      "text/plain": [
       "        Loan Amount  Interest [%]     Maturity  Length of Business Ownership  \\\n",
       "count  7.377000e+03   7377.000000  7377.000000                   7377.000000   \n",
       "mean   3.813108e+06     12.029822    39.425918                     75.183543   \n",
       "std    6.365609e+05      0.932616     2.883864                     80.365198   \n",
       "min    2.300000e+06      8.000000    25.000000                      1.000000   \n",
       "25%    3.360000e+06     12.000000    40.000000                     24.000000   \n",
       "50%    3.860000e+06     12.000000    40.000000                     48.000000   \n",
       "75%    4.360000e+06     12.000000    40.000000                     96.000000   \n",
       "max    6.650000e+06     15.000000    50.000000                    876.000000   \n",
       "\n",
       "       Length of Stay  \n",
       "count     7377.000000  \n",
       "mean        21.116307  \n",
       "std         14.866352  \n",
       "min          0.000000  \n",
       "25%          8.000000  \n",
       "50%         20.000000  \n",
       "75%         30.000000  \n",
       "max        110.000000  "
      ]
     },
     "execution_count": 20,
     "metadata": {},
     "output_type": "execute_result"
    }
   ],
   "source": [
    "data.describe()"
   ]
  },
  {
   "cell_type": "code",
   "execution_count": 21,
   "metadata": {},
   "outputs": [
    {
     "data": {
      "text/plain": [
       "B     5133\n",
       "B+    1036\n",
       "C+     576\n",
       "B-     482\n",
       "C       85\n",
       "A-      46\n",
       "A       13\n",
       "A+       6\n",
       "Name: CS EKF, dtype: int64"
      ]
     },
     "execution_count": 21,
     "metadata": {},
     "output_type": "execute_result"
    }
   ],
   "source": [
    "## Checking CS EKF value\n",
    "data['CS EKF'].value_counts()"
   ]
  },
  {
   "cell_type": "code",
   "execution_count": 22,
   "metadata": {},
   "outputs": [],
   "source": [
    "## Data Copy & Setting up for Econding -- LabelEncoder\n",
    "data_num = data.copy()"
   ]
  },
  {
   "cell_type": "code",
   "execution_count": 23,
   "metadata": {},
   "outputs": [],
   "source": [
    "## Convert CS EKF value into interger data type\n",
    "score_lables = {'A+': 7, 'A': 6, 'A-': 5, 'B+': 4, 'B': 3, 'B-': 2, 'C+': 1, 'C': 0}\n",
    "data_num['CS EKF'] = data_num['CS EKF'].replace(score_lables).astype(int)"
   ]
  },
  {
   "cell_type": "code",
   "execution_count": 24,
   "metadata": {},
   "outputs": [],
   "source": [
    "## Creating an anonymous function, transforming categorical CS EKF values into numerical values & Set Label for Encoding\n",
    "data_num.loc[:, data_num.dtypes == 'object'] = data_num.loc[:, data_num.dtypes == 'object'].apply(lambda x: LabelEncoder().fit_transform(x), axis=0)"
   ]
  },
  {
   "cell_type": "code",
   "execution_count": 25,
   "metadata": {},
   "outputs": [
    {
     "data": {
      "text/plain": [
       "3    5133\n",
       "4    1036\n",
       "1     576\n",
       "2     482\n",
       "0      85\n",
       "5      46\n",
       "6      13\n",
       "7       6\n",
       "Name: CS EKF, dtype: int64"
      ]
     },
     "execution_count": 25,
     "metadata": {},
     "output_type": "execute_result"
    }
   ],
   "source": [
    "## Checking CS EKF score in numerical values\n",
    "data_num['CS EKF'].value_counts()"
   ]
  },
  {
   "cell_type": "code",
   "execution_count": 26,
   "metadata": {},
   "outputs": [
    {
     "data": {
      "text/plain": [
       "<matplotlib.axes._subplots.AxesSubplot at 0x24a2aeabfd0>"
      ]
     },
     "execution_count": 26,
     "metadata": {},
     "output_type": "execute_result"
    },
    {
     "data": {
      "image/png": "[encoded data removed]",
      "text/plain": [
       "<Figure size 576x576 with 2 Axes>"
      ]
     },
     "metadata": {
      "needs_background": "light"
     },
     "output_type": "display_data"
    }
   ],
   "source": [
    "## Checking correlation between other variables given CS EKF as a target variable\n",
    "plt.figure(figsize=(8,8))\n",
    "mycorr = data_num.corr()\n",
    "sns.heatmap(mycorr, vmin=-1, vmax=1, cmap=sns.color_palette(\"RdBu_r\", 30), annot=True, fmt='.2f')"
   ]
  },
  {
   "cell_type": "code",
   "execution_count": 27,
   "metadata": {},
   "outputs": [
    {
     "data": {
      "text/plain": [
       "<matplotlib.axes._subplots.AxesSubplot at 0x24a2b797128>"
      ]
     },
     "execution_count": 27,
     "metadata": {},
     "output_type": "execute_result"
    },
    {
     "data": {
      "image/png": "[encoded data removed]",
      "text/plain": [
       "<Figure size 432x432 with 1 Axes>"
      ]
     },
     "metadata": {
      "needs_background": "light"
     },
     "output_type": "display_data"
    }
   ],
   "source": [
    "mycorr['CS EKF'].sort_values().to_frame().plot(kind='barh', figsize=(6,6))"
   ]
  },
  {
   "cell_type": "markdown",
   "metadata": {},
   "source": [
    "### Machine Learning Algorithms"
   ]
  },
  {
   "cell_type": "code",
   "execution_count": 28,
   "metadata": {},
   "outputs": [],
   "source": [
    "# Defining X and y variables for feature selection\n",
    "X = data_num.drop(['CS EKF'], axis=1)\n",
    "y = data_num['CS EKF']"
   ]
  },
  {
   "cell_type": "code",
   "execution_count": 29,
   "metadata": {},
   "outputs": [
    {
     "data": {
      "text/plain": [
       "3    5133\n",
       "4    1036\n",
       "1     576\n",
       "2     482\n",
       "0      85\n",
       "5      46\n",
       "6      13\n",
       "7       6\n",
       "Name: CS EKF, dtype: int64"
      ]
     },
     "execution_count": 29,
     "metadata": {},
     "output_type": "execute_result"
    }
   ],
   "source": [
    "y.value_counts()"
   ]
  },
  {
   "cell_type": "markdown",
   "metadata": {},
   "source": [
    "#### KNN"
   ]
  },
  {
   "cell_type": "code",
   "execution_count": 30,
   "metadata": {},
   "outputs": [
    {
     "name": "stdout",
     "output_type": "stream",
     "text": [
      "              precision    recall  f1-score   support\n",
      "\n",
      "           0       0.20      0.02      0.04        85\n",
      "           1       0.55      0.22      0.32       576\n",
      "           2       0.38      0.08      0.13       482\n",
      "           3       0.71      0.95      0.82      5133\n",
      "           4       0.28      0.05      0.09      1036\n",
      "           5       0.00      0.00      0.00        46\n",
      "           6       0.00      0.00      0.00        13\n",
      "           7       0.00      0.00      0.00         6\n",
      "\n",
      "   micro avg       0.69      0.69      0.69      7377\n",
      "   macro avg       0.27      0.17      0.17      7377\n",
      "weighted avg       0.61      0.69      0.61      7377\n",
      "\n",
      "The average is 0.6928290633048665\n"
     ]
    },
    {
     "name": "stderr",
     "output_type": "stream",
     "text": [
      "C:\\Users\\angel\\Anaconda\\lib\\site-packages\\sklearn\\metrics\\classification.py:1143: UndefinedMetricWarning: Precision and F-score are ill-defined and being set to 0.0 in labels with no predicted samples.\n",
      "  'precision', 'predicted', average, warn_for)\n",
      "C:\\Users\\angel\\Anaconda\\lib\\site-packages\\sklearn\\metrics\\classification.py:1143: UndefinedMetricWarning: Precision and F-score are ill-defined and being set to 0.0 in labels with no predicted samples.\n",
      "  'precision', 'predicted', average, warn_for)\n",
      "C:\\Users\\angel\\Anaconda\\lib\\site-packages\\sklearn\\metrics\\classification.py:1143: UndefinedMetricWarning: Precision and F-score are ill-defined and being set to 0.0 in labels with no predicted samples.\n",
      "  'precision', 'predicted', average, warn_for)\n"
     ]
    }
   ],
   "source": [
    "# KNN of a 10-fold cross-validation with k=10 (the n_neighbors hyperparameter)\n",
    "knn = KNeighborsClassifier(n_neighbors=10)\n",
    "y_pred = cross_val_predict(knn, X, y, cv=6) #cv is the cross-validation parameter\n",
    "print(classification_report(y, y_pred))\n",
    "print(\"The average is\", np.mean(y_pred == y))"
   ]
  },
  {
   "cell_type": "code",
   "execution_count": 31,
   "metadata": {},
   "outputs": [
    {
     "data": {
      "text/html": [
       "<div>\n",
       "<style scoped>\n",
       "    .dataframe tbody tr th:only-of-type {\n",
       "        vertical-align: middle;\n",
       "    }\n",
       "\n",
       "    .dataframe tbody tr th {\n",
       "        vertical-align: top;\n",
       "    }\n",
       "\n",
       "    .dataframe thead th {\n",
       "        text-align: right;\n",
       "    }\n",
       "</style>\n",
       "<table border=\"1\" class=\"dataframe\">\n",
       "  <thead>\n",
       "    <tr style=\"text-align: right;\">\n",
       "      <th></th>\n",
       "      <th>A+</th>\n",
       "      <th>A</th>\n",
       "      <th>A-</th>\n",
       "      <th>B+</th>\n",
       "      <th>B</th>\n",
       "      <th>B-</th>\n",
       "      <th>C+</th>\n",
       "      <th>C</th>\n",
       "    </tr>\n",
       "  </thead>\n",
       "  <tbody>\n",
       "    <tr>\n",
       "      <th>A+</th>\n",
       "      <td>2</td>\n",
       "      <td>19</td>\n",
       "      <td>5</td>\n",
       "      <td>59</td>\n",
       "      <td>0</td>\n",
       "      <td>0</td>\n",
       "      <td>0</td>\n",
       "      <td>0</td>\n",
       "    </tr>\n",
       "    <tr>\n",
       "      <th>A</th>\n",
       "      <td>3</td>\n",
       "      <td>127</td>\n",
       "      <td>12</td>\n",
       "      <td>431</td>\n",
       "      <td>3</td>\n",
       "      <td>0</td>\n",
       "      <td>0</td>\n",
       "      <td>0</td>\n",
       "    </tr>\n",
       "    <tr>\n",
       "      <th>A-</th>\n",
       "      <td>0</td>\n",
       "      <td>10</td>\n",
       "      <td>38</td>\n",
       "      <td>431</td>\n",
       "      <td>3</td>\n",
       "      <td>0</td>\n",
       "      <td>0</td>\n",
       "      <td>0</td>\n",
       "    </tr>\n",
       "    <tr>\n",
       "      <th>B+</th>\n",
       "      <td>5</td>\n",
       "      <td>72</td>\n",
       "      <td>43</td>\n",
       "      <td>4892</td>\n",
       "      <td>121</td>\n",
       "      <td>0</td>\n",
       "      <td>0</td>\n",
       "      <td>0</td>\n",
       "    </tr>\n",
       "    <tr>\n",
       "      <th>B</th>\n",
       "      <td>0</td>\n",
       "      <td>1</td>\n",
       "      <td>3</td>\n",
       "      <td>980</td>\n",
       "      <td>52</td>\n",
       "      <td>0</td>\n",
       "      <td>0</td>\n",
       "      <td>0</td>\n",
       "    </tr>\n",
       "    <tr>\n",
       "      <th>B-</th>\n",
       "      <td>0</td>\n",
       "      <td>0</td>\n",
       "      <td>0</td>\n",
       "      <td>42</td>\n",
       "      <td>4</td>\n",
       "      <td>0</td>\n",
       "      <td>0</td>\n",
       "      <td>0</td>\n",
       "    </tr>\n",
       "    <tr>\n",
       "      <th>C+</th>\n",
       "      <td>0</td>\n",
       "      <td>0</td>\n",
       "      <td>0</td>\n",
       "      <td>11</td>\n",
       "      <td>2</td>\n",
       "      <td>0</td>\n",
       "      <td>0</td>\n",
       "      <td>0</td>\n",
       "    </tr>\n",
       "    <tr>\n",
       "      <th>C</th>\n",
       "      <td>0</td>\n",
       "      <td>0</td>\n",
       "      <td>0</td>\n",
       "      <td>6</td>\n",
       "      <td>0</td>\n",
       "      <td>0</td>\n",
       "      <td>0</td>\n",
       "      <td>0</td>\n",
       "    </tr>\n",
       "  </tbody>\n",
       "</table>\n",
       "</div>"
      ],
      "text/plain": [
       "    A+    A  A-    B+    B  B-  C+  C\n",
       "A+   2   19   5    59    0   0   0  0\n",
       "A    3  127  12   431    3   0   0  0\n",
       "A-   0   10  38   431    3   0   0  0\n",
       "B+   5   72  43  4892  121   0   0  0\n",
       "B    0    1   3   980   52   0   0  0\n",
       "B-   0    0   0    42    4   0   0  0\n",
       "C+   0    0   0    11    2   0   0  0\n",
       "C    0    0   0     6    0   0   0  0"
      ]
     },
     "execution_count": 31,
     "metadata": {},
     "output_type": "execute_result"
    }
   ],
   "source": [
    "knn_cm = pd.DataFrame(confusion_matrix(y, y_pred), index=score_lables.keys(), columns=score_lables.keys())\n",
    "knn_cm"
   ]
  },
  {
   "cell_type": "code",
   "execution_count": 32,
   "metadata": {},
   "outputs": [
    {
     "data": {
      "text/plain": [
       "<matplotlib.axes._subplots.AxesSubplot at 0x24a2b8b76d8>"
      ]
     },
     "execution_count": 32,
     "metadata": {},
     "output_type": "execute_result"
    },
    {
     "data": {
      "image/png": "[encoded data removed]",
      "text/plain": [
       "<Figure size 576x360 with 2 Axes>"
      ]
     },
     "metadata": {
      "needs_background": "light"
     },
     "output_type": "display_data"
    }
   ],
   "source": [
    "plt.figure(figsize=(8,5))\n",
    "sns.heatmap(knn_cm, vmax=200, vmin=0, annot=True)"
   ]
  },
  {
   "cell_type": "markdown",
   "metadata": {},
   "source": [
    "#### Logistic Regression"
   ]
  },
  {
   "cell_type": "code",
   "execution_count": 33,
   "metadata": {},
   "outputs": [
    {
     "name": "stdout",
     "output_type": "stream",
     "text": [
      "              precision    recall  f1-score   support\n",
      "\n",
      "           0       0.00      0.00      0.00        85\n",
      "           1       0.00      0.00      0.00       576\n",
      "           2       0.00      0.00      0.00       482\n",
      "           3       0.70      1.00      0.82      5133\n",
      "           4       0.00      0.00      0.00      1036\n",
      "           5       0.00      0.00      0.00        46\n",
      "           6       0.00      0.00      0.00        13\n",
      "           7       0.00      0.00      0.00         6\n",
      "\n",
      "   micro avg       0.70      0.70      0.70      7377\n",
      "   macro avg       0.09      0.12      0.10      7377\n",
      "weighted avg       0.48      0.70      0.57      7377\n",
      "\n",
      "The average is 0.6958113054087027\n"
     ]
    },
    {
     "name": "stderr",
     "output_type": "stream",
     "text": [
      "C:\\Users\\angel\\Anaconda\\lib\\site-packages\\sklearn\\metrics\\classification.py:1143: UndefinedMetricWarning: Precision and F-score are ill-defined and being set to 0.0 in labels with no predicted samples.\n",
      "  'precision', 'predicted', average, warn_for)\n",
      "C:\\Users\\angel\\Anaconda\\lib\\site-packages\\sklearn\\metrics\\classification.py:1143: UndefinedMetricWarning: Precision and F-score are ill-defined and being set to 0.0 in labels with no predicted samples.\n",
      "  'precision', 'predicted', average, warn_for)\n",
      "C:\\Users\\angel\\Anaconda\\lib\\site-packages\\sklearn\\metrics\\classification.py:1143: UndefinedMetricWarning: Precision and F-score are ill-defined and being set to 0.0 in labels with no predicted samples.\n",
      "  'precision', 'predicted', average, warn_for)\n"
     ]
    }
   ],
   "source": [
    "# Logistic Regression with a 10-fold cross validation\n",
    "lr_model = LogisticRegression(multi_class='ovr', solver='lbfgs')\n",
    "lr_predictions = cross_val_predict(lr_model, X, y, cv=6)\n",
    "print(classification_report(y, lr_predictions))\n",
    "print(\"The average is\", np.mean(lr_predictions == y))"
   ]
  },
  {
   "cell_type": "code",
   "execution_count": 34,
   "metadata": {},
   "outputs": [
    {
     "data": {
      "text/html": [
       "<div>\n",
       "<style scoped>\n",
       "    .dataframe tbody tr th:only-of-type {\n",
       "        vertical-align: middle;\n",
       "    }\n",
       "\n",
       "    .dataframe tbody tr th {\n",
       "        vertical-align: top;\n",
       "    }\n",
       "\n",
       "    .dataframe thead th {\n",
       "        text-align: right;\n",
       "    }\n",
       "</style>\n",
       "<table border=\"1\" class=\"dataframe\">\n",
       "  <thead>\n",
       "    <tr style=\"text-align: right;\">\n",
       "      <th></th>\n",
       "      <th>A+</th>\n",
       "      <th>A</th>\n",
       "      <th>A-</th>\n",
       "      <th>B+</th>\n",
       "      <th>B</th>\n",
       "      <th>B-</th>\n",
       "      <th>C+</th>\n",
       "      <th>C</th>\n",
       "    </tr>\n",
       "  </thead>\n",
       "  <tbody>\n",
       "    <tr>\n",
       "      <th>A+</th>\n",
       "      <td>0</td>\n",
       "      <td>0</td>\n",
       "      <td>0</td>\n",
       "      <td>85</td>\n",
       "      <td>0</td>\n",
       "      <td>0</td>\n",
       "      <td>0</td>\n",
       "      <td>0</td>\n",
       "    </tr>\n",
       "    <tr>\n",
       "      <th>A</th>\n",
       "      <td>0</td>\n",
       "      <td>0</td>\n",
       "      <td>0</td>\n",
       "      <td>576</td>\n",
       "      <td>0</td>\n",
       "      <td>0</td>\n",
       "      <td>0</td>\n",
       "      <td>0</td>\n",
       "    </tr>\n",
       "    <tr>\n",
       "      <th>A-</th>\n",
       "      <td>0</td>\n",
       "      <td>0</td>\n",
       "      <td>0</td>\n",
       "      <td>482</td>\n",
       "      <td>0</td>\n",
       "      <td>0</td>\n",
       "      <td>0</td>\n",
       "      <td>0</td>\n",
       "    </tr>\n",
       "    <tr>\n",
       "      <th>B+</th>\n",
       "      <td>0</td>\n",
       "      <td>0</td>\n",
       "      <td>0</td>\n",
       "      <td>5133</td>\n",
       "      <td>0</td>\n",
       "      <td>0</td>\n",
       "      <td>0</td>\n",
       "      <td>0</td>\n",
       "    </tr>\n",
       "    <tr>\n",
       "      <th>B</th>\n",
       "      <td>0</td>\n",
       "      <td>0</td>\n",
       "      <td>0</td>\n",
       "      <td>1036</td>\n",
       "      <td>0</td>\n",
       "      <td>0</td>\n",
       "      <td>0</td>\n",
       "      <td>0</td>\n",
       "    </tr>\n",
       "    <tr>\n",
       "      <th>B-</th>\n",
       "      <td>0</td>\n",
       "      <td>0</td>\n",
       "      <td>0</td>\n",
       "      <td>46</td>\n",
       "      <td>0</td>\n",
       "      <td>0</td>\n",
       "      <td>0</td>\n",
       "      <td>0</td>\n",
       "    </tr>\n",
       "    <tr>\n",
       "      <th>C+</th>\n",
       "      <td>0</td>\n",
       "      <td>0</td>\n",
       "      <td>0</td>\n",
       "      <td>13</td>\n",
       "      <td>0</td>\n",
       "      <td>0</td>\n",
       "      <td>0</td>\n",
       "      <td>0</td>\n",
       "    </tr>\n",
       "    <tr>\n",
       "      <th>C</th>\n",
       "      <td>0</td>\n",
       "      <td>0</td>\n",
       "      <td>0</td>\n",
       "      <td>6</td>\n",
       "      <td>0</td>\n",
       "      <td>0</td>\n",
       "      <td>0</td>\n",
       "      <td>0</td>\n",
       "    </tr>\n",
       "  </tbody>\n",
       "</table>\n",
       "</div>"
      ],
      "text/plain": [
       "    A+  A  A-    B+  B  B-  C+  C\n",
       "A+   0  0   0    85  0   0   0  0\n",
       "A    0  0   0   576  0   0   0  0\n",
       "A-   0  0   0   482  0   0   0  0\n",
       "B+   0  0   0  5133  0   0   0  0\n",
       "B    0  0   0  1036  0   0   0  0\n",
       "B-   0  0   0    46  0   0   0  0\n",
       "C+   0  0   0    13  0   0   0  0\n",
       "C    0  0   0     6  0   0   0  0"
      ]
     },
     "execution_count": 34,
     "metadata": {},
     "output_type": "execute_result"
    }
   ],
   "source": [
    "lr_cm = pd.DataFrame(confusion_matrix(y, lr_predictions), index=score_lables.keys(), columns=score_lables.keys())\n",
    "lr_cm"
   ]
  },
  {
   "cell_type": "code",
   "execution_count": 35,
   "metadata": {},
   "outputs": [
    {
     "data": {
      "text/plain": [
       "<matplotlib.axes._subplots.AxesSubplot at 0x24a2bb836d8>"
      ]
     },
     "execution_count": 35,
     "metadata": {},
     "output_type": "execute_result"
    },
    {
     "data": {
      "image/png": "[encoded data removed]",
      "text/plain": [
       "<Figure size 576x360 with 2 Axes>"
      ]
     },
     "metadata": {
      "needs_background": "light"
     },
     "output_type": "display_data"
    }
   ],
   "source": [
    "plt.figure(figsize=(8,5))\n",
    "sns.heatmap(lr_cm, vmax=200, vmin=0, annot=True)"
   ]
  },
  {
   "cell_type": "markdown",
   "metadata": {},
   "source": [
    "#### Gradient Boosting"
   ]
  },
  {
   "cell_type": "code",
   "execution_count": 36,
   "metadata": {},
   "outputs": [
    {
     "name": "stdout",
     "output_type": "stream",
     "text": [
      "              precision    recall  f1-score   support\n",
      "\n",
      "           0       1.00      1.00      1.00        85\n",
      "           1       1.00      1.00      1.00       576\n",
      "           2       1.00      1.00      1.00       482\n",
      "           3       1.00      1.00      1.00      5133\n",
      "           4       0.97      0.99      0.98      1036\n",
      "           5       0.46      0.26      0.33        46\n",
      "           6       1.00      0.85      0.92        13\n",
      "           7       0.86      1.00      0.92         6\n",
      "\n",
      "   micro avg       0.99      0.99      0.99      7377\n",
      "   macro avg       0.91      0.89      0.89      7377\n",
      "weighted avg       0.99      0.99      0.99      7377\n",
      "\n",
      "The average is 0.9933577334960011\n"
     ]
    }
   ],
   "source": [
    "# Gradient Boosting Classifier\n",
    "## exponential loss, learning rate of 0.03 (ie. this shrinks the contribution of each tree by 0.03)\n",
    "## 75 (number of) boosting stages to perform (GB is fairly robust to over-fitting; a large number usually results in better performance)\n",
    "## Maximum depth of 6 (the maximum depth limits the number of nodes in the tree)\n",
    "\n",
    "gb_model = GradientBoostingClassifier(learning_rate=0.03, n_estimators=75 , max_depth=6)\n",
    "gb_predictions = cross_val_predict(gb_model, X, y, cv=5)\n",
    "print(classification_report(y, gb_predictions))\n",
    "print(\"The average is\", np.mean(gb_predictions == y))"
   ]
  },
  {
   "cell_type": "code",
   "execution_count": 37,
   "metadata": {},
   "outputs": [
    {
     "data": {
      "text/html": [
       "<div>\n",
       "<style scoped>\n",
       "    .dataframe tbody tr th:only-of-type {\n",
       "        vertical-align: middle;\n",
       "    }\n",
       "\n",
       "    .dataframe tbody tr th {\n",
       "        vertical-align: top;\n",
       "    }\n",
       "\n",
       "    .dataframe thead th {\n",
       "        text-align: right;\n",
       "    }\n",
       "</style>\n",
       "<table border=\"1\" class=\"dataframe\">\n",
       "  <thead>\n",
       "    <tr style=\"text-align: right;\">\n",
       "      <th></th>\n",
       "      <th>A+</th>\n",
       "      <th>A</th>\n",
       "      <th>A-</th>\n",
       "      <th>B+</th>\n",
       "      <th>B</th>\n",
       "      <th>B-</th>\n",
       "      <th>C+</th>\n",
       "      <th>C</th>\n",
       "    </tr>\n",
       "  </thead>\n",
       "  <tbody>\n",
       "    <tr>\n",
       "      <th>A+</th>\n",
       "      <td>85</td>\n",
       "      <td>0</td>\n",
       "      <td>0</td>\n",
       "      <td>0</td>\n",
       "      <td>0</td>\n",
       "      <td>0</td>\n",
       "      <td>0</td>\n",
       "      <td>0</td>\n",
       "    </tr>\n",
       "    <tr>\n",
       "      <th>A</th>\n",
       "      <td>0</td>\n",
       "      <td>576</td>\n",
       "      <td>0</td>\n",
       "      <td>0</td>\n",
       "      <td>0</td>\n",
       "      <td>0</td>\n",
       "      <td>0</td>\n",
       "      <td>0</td>\n",
       "    </tr>\n",
       "    <tr>\n",
       "      <th>A-</th>\n",
       "      <td>0</td>\n",
       "      <td>0</td>\n",
       "      <td>482</td>\n",
       "      <td>0</td>\n",
       "      <td>0</td>\n",
       "      <td>0</td>\n",
       "      <td>0</td>\n",
       "      <td>0</td>\n",
       "    </tr>\n",
       "    <tr>\n",
       "      <th>B+</th>\n",
       "      <td>0</td>\n",
       "      <td>0</td>\n",
       "      <td>0</td>\n",
       "      <td>5133</td>\n",
       "      <td>0</td>\n",
       "      <td>0</td>\n",
       "      <td>0</td>\n",
       "      <td>0</td>\n",
       "    </tr>\n",
       "    <tr>\n",
       "      <th>B</th>\n",
       "      <td>0</td>\n",
       "      <td>0</td>\n",
       "      <td>0</td>\n",
       "      <td>0</td>\n",
       "      <td>1023</td>\n",
       "      <td>13</td>\n",
       "      <td>0</td>\n",
       "      <td>0</td>\n",
       "    </tr>\n",
       "    <tr>\n",
       "      <th>B-</th>\n",
       "      <td>0</td>\n",
       "      <td>0</td>\n",
       "      <td>0</td>\n",
       "      <td>0</td>\n",
       "      <td>34</td>\n",
       "      <td>12</td>\n",
       "      <td>0</td>\n",
       "      <td>0</td>\n",
       "    </tr>\n",
       "    <tr>\n",
       "      <th>C+</th>\n",
       "      <td>0</td>\n",
       "      <td>0</td>\n",
       "      <td>0</td>\n",
       "      <td>0</td>\n",
       "      <td>0</td>\n",
       "      <td>1</td>\n",
       "      <td>11</td>\n",
       "      <td>1</td>\n",
       "    </tr>\n",
       "    <tr>\n",
       "      <th>C</th>\n",
       "      <td>0</td>\n",
       "      <td>0</td>\n",
       "      <td>0</td>\n",
       "      <td>0</td>\n",
       "      <td>0</td>\n",
       "      <td>0</td>\n",
       "      <td>0</td>\n",
       "      <td>6</td>\n",
       "    </tr>\n",
       "  </tbody>\n",
       "</table>\n",
       "</div>"
      ],
      "text/plain": [
       "    A+    A   A-    B+     B  B-  C+  C\n",
       "A+  85    0    0     0     0   0   0  0\n",
       "A    0  576    0     0     0   0   0  0\n",
       "A-   0    0  482     0     0   0   0  0\n",
       "B+   0    0    0  5133     0   0   0  0\n",
       "B    0    0    0     0  1023  13   0  0\n",
       "B-   0    0    0     0    34  12   0  0\n",
       "C+   0    0    0     0     0   1  11  1\n",
       "C    0    0    0     0     0   0   0  6"
      ]
     },
     "execution_count": 37,
     "metadata": {},
     "output_type": "execute_result"
    }
   ],
   "source": [
    "gb_cm = pd.DataFrame(confusion_matrix(y, gb_predictions), index=score_lables.keys(), columns=score_lables.keys())\n",
    "gb_cm"
   ]
  },
  {
   "cell_type": "code",
   "execution_count": 38,
   "metadata": {},
   "outputs": [
    {
     "data": {
      "text/plain": [
       "<matplotlib.axes._subplots.AxesSubplot at 0x24a2c8b2240>"
      ]
     },
     "execution_count": 38,
     "metadata": {},
     "output_type": "execute_result"
    },
    {
     "data": {
      "image/png": "[encoded data removed]",
      "text/plain": [
       "<Figure size 576x360 with 2 Axes>"
      ]
     },
     "metadata": {
      "needs_background": "light"
     },
     "output_type": "display_data"
    }
   ],
   "source": [
    "plt.figure(figsize=(8,5))\n",
    "sns.heatmap(gb_cm, vmax=200, vmin=0, annot=True)"
   ]
  },
  {
   "cell_type": "markdown",
   "metadata": {},
   "source": [
    "#### SVM"
   ]
  },
  {
   "cell_type": "code",
   "execution_count": 39,
   "metadata": {},
   "outputs": [
    {
     "name": "stdout",
     "output_type": "stream",
     "text": [
      "              precision    recall  f1-score   support\n",
      "\n",
      "           0       0.67      0.02      0.05        85\n",
      "           1       0.83      0.20      0.32       576\n",
      "           2       0.50      0.06      0.10       482\n",
      "           3       0.72      0.98      0.83      5133\n",
      "           4       0.60      0.11      0.18      1036\n",
      "           5       0.00      0.00      0.00        46\n",
      "           6       0.00      0.00      0.00        13\n",
      "           7       0.00      0.00      0.00         6\n",
      "\n",
      "   micro avg       0.72      0.72      0.72      7377\n",
      "   macro avg       0.41      0.17      0.19      7377\n",
      "weighted avg       0.69      0.72      0.64      7377\n",
      "\n",
      "The average is 0.7169581130540871\n"
     ]
    },
    {
     "name": "stderr",
     "output_type": "stream",
     "text": [
      "C:\\Users\\angel\\Anaconda\\lib\\site-packages\\sklearn\\metrics\\classification.py:1143: UndefinedMetricWarning: Precision and F-score are ill-defined and being set to 0.0 in labels with no predicted samples.\n",
      "  'precision', 'predicted', average, warn_for)\n",
      "C:\\Users\\angel\\Anaconda\\lib\\site-packages\\sklearn\\metrics\\classification.py:1143: UndefinedMetricWarning: Precision and F-score are ill-defined and being set to 0.0 in labels with no predicted samples.\n",
      "  'precision', 'predicted', average, warn_for)\n",
      "C:\\Users\\angel\\Anaconda\\lib\\site-packages\\sklearn\\metrics\\classification.py:1143: UndefinedMetricWarning: Precision and F-score are ill-defined and being set to 0.0 in labels with no predicted samples.\n",
      "  'precision', 'predicted', average, warn_for)\n"
     ]
    }
   ],
   "source": [
    "## Support Vector Machine - SVM seems to provide the best recall result but relatively low accuracy (compared to our other models)\n",
    "svc_model = SVC(gamma=\"auto\")\n",
    "svc_predictions = cross_val_predict(svc_model, X, y, cv=5)\n",
    "print(classification_report(y, svc_predictions))\n",
    "print(\"The average is\", np.mean(svc_predictions == y))"
   ]
  },
  {
   "cell_type": "code",
   "execution_count": 40,
   "metadata": {},
   "outputs": [
    {
     "data": {
      "text/html": [
       "<div>\n",
       "<style scoped>\n",
       "    .dataframe tbody tr th:only-of-type {\n",
       "        vertical-align: middle;\n",
       "    }\n",
       "\n",
       "    .dataframe tbody tr th {\n",
       "        vertical-align: top;\n",
       "    }\n",
       "\n",
       "    .dataframe thead th {\n",
       "        text-align: right;\n",
       "    }\n",
       "</style>\n",
       "<table border=\"1\" class=\"dataframe\">\n",
       "  <thead>\n",
       "    <tr style=\"text-align: right;\">\n",
       "      <th></th>\n",
       "      <th>A+</th>\n",
       "      <th>A</th>\n",
       "      <th>A-</th>\n",
       "      <th>B+</th>\n",
       "      <th>B</th>\n",
       "      <th>B-</th>\n",
       "      <th>C+</th>\n",
       "      <th>C</th>\n",
       "    </tr>\n",
       "  </thead>\n",
       "  <tbody>\n",
       "    <tr>\n",
       "      <th>A+</th>\n",
       "      <td>2</td>\n",
       "      <td>13</td>\n",
       "      <td>0</td>\n",
       "      <td>70</td>\n",
       "      <td>0</td>\n",
       "      <td>0</td>\n",
       "      <td>0</td>\n",
       "      <td>0</td>\n",
       "    </tr>\n",
       "    <tr>\n",
       "      <th>A</th>\n",
       "      <td>0</td>\n",
       "      <td>116</td>\n",
       "      <td>8</td>\n",
       "      <td>452</td>\n",
       "      <td>0</td>\n",
       "      <td>0</td>\n",
       "      <td>0</td>\n",
       "      <td>0</td>\n",
       "    </tr>\n",
       "    <tr>\n",
       "      <th>A-</th>\n",
       "      <td>1</td>\n",
       "      <td>1</td>\n",
       "      <td>27</td>\n",
       "      <td>452</td>\n",
       "      <td>1</td>\n",
       "      <td>0</td>\n",
       "      <td>0</td>\n",
       "      <td>0</td>\n",
       "    </tr>\n",
       "    <tr>\n",
       "      <th>B+</th>\n",
       "      <td>0</td>\n",
       "      <td>10</td>\n",
       "      <td>18</td>\n",
       "      <td>5033</td>\n",
       "      <td>72</td>\n",
       "      <td>0</td>\n",
       "      <td>0</td>\n",
       "      <td>0</td>\n",
       "    </tr>\n",
       "    <tr>\n",
       "      <th>B</th>\n",
       "      <td>0</td>\n",
       "      <td>0</td>\n",
       "      <td>1</td>\n",
       "      <td>924</td>\n",
       "      <td>111</td>\n",
       "      <td>0</td>\n",
       "      <td>0</td>\n",
       "      <td>0</td>\n",
       "    </tr>\n",
       "    <tr>\n",
       "      <th>B-</th>\n",
       "      <td>0</td>\n",
       "      <td>0</td>\n",
       "      <td>0</td>\n",
       "      <td>44</td>\n",
       "      <td>2</td>\n",
       "      <td>0</td>\n",
       "      <td>0</td>\n",
       "      <td>0</td>\n",
       "    </tr>\n",
       "    <tr>\n",
       "      <th>C+</th>\n",
       "      <td>0</td>\n",
       "      <td>0</td>\n",
       "      <td>0</td>\n",
       "      <td>13</td>\n",
       "      <td>0</td>\n",
       "      <td>0</td>\n",
       "      <td>0</td>\n",
       "      <td>0</td>\n",
       "    </tr>\n",
       "    <tr>\n",
       "      <th>C</th>\n",
       "      <td>0</td>\n",
       "      <td>0</td>\n",
       "      <td>0</td>\n",
       "      <td>6</td>\n",
       "      <td>0</td>\n",
       "      <td>0</td>\n",
       "      <td>0</td>\n",
       "      <td>0</td>\n",
       "    </tr>\n",
       "  </tbody>\n",
       "</table>\n",
       "</div>"
      ],
      "text/plain": [
       "    A+    A  A-    B+    B  B-  C+  C\n",
       "A+   2   13   0    70    0   0   0  0\n",
       "A    0  116   8   452    0   0   0  0\n",
       "A-   1    1  27   452    1   0   0  0\n",
       "B+   0   10  18  5033   72   0   0  0\n",
       "B    0    0   1   924  111   0   0  0\n",
       "B-   0    0   0    44    2   0   0  0\n",
       "C+   0    0   0    13    0   0   0  0\n",
       "C    0    0   0     6    0   0   0  0"
      ]
     },
     "execution_count": 40,
     "metadata": {},
     "output_type": "execute_result"
    }
   ],
   "source": [
    "svc_cm = pd.DataFrame(confusion_matrix(y, svc_predictions), index=score_lables.keys(), columns=score_lables.keys())\n",
    "svc_cm"
   ]
  },
  {
   "cell_type": "code",
   "execution_count": 41,
   "metadata": {},
   "outputs": [
    {
     "data": {
      "text/plain": [
       "<matplotlib.axes._subplots.AxesSubplot at 0x24a2c9be400>"
      ]
     },
     "execution_count": 41,
     "metadata": {},
     "output_type": "execute_result"
    },
    {
     "data": {
      "image/png": "[encoded data removed]",
      "text/plain": [
       "<Figure size 576x360 with 2 Axes>"
      ]
     },
     "metadata": {
      "needs_background": "light"
     },
     "output_type": "display_data"
    }
   ],
   "source": [
    "plt.figure(figsize=(8,5))\n",
    "sns.heatmap(svc_cm, vmax=200, vmin=0, annot=True)"
   ]
  },
  {
   "cell_type": "markdown",
   "metadata": {},
   "source": [
    "#### Random Forest"
   ]
  },
  {
   "cell_type": "code",
   "execution_count": 42,
   "metadata": {},
   "outputs": [
    {
     "name": "stdout",
     "output_type": "stream",
     "text": [
      "              precision    recall  f1-score   support\n",
      "\n",
      "           0       1.00      0.99      0.99        85\n",
      "           1       1.00      1.00      1.00       576\n",
      "           2       1.00      1.00      1.00       482\n",
      "           3       1.00      1.00      1.00      5133\n",
      "           4       0.97      1.00      0.98      1036\n",
      "           5       0.75      0.26      0.39        46\n",
      "           6       0.93      1.00      0.96        13\n",
      "           7       1.00      0.83      0.91         6\n",
      "\n",
      "   micro avg       0.99      0.99      0.99      7377\n",
      "   macro avg       0.96      0.88      0.90      7377\n",
      "weighted avg       0.99      0.99      0.99      7377\n",
      "\n",
      "The average is 0.9945777416293886\n"
     ]
    }
   ],
   "source": [
    "## Random Forest with Cross Validation instead of 80-20 train-test split\n",
    "rf_model = RandomForestClassifier(n_estimators=100)\n",
    "rf_predictions = cross_val_predict(rf_model, X, y, cv=6)\n",
    "print(classification_report(y, rf_predictions))\n",
    "print(\"The average is\", np.mean(rf_predictions == y))"
   ]
  },
  {
   "cell_type": "code",
   "execution_count": 43,
   "metadata": {},
   "outputs": [
    {
     "data": {
      "text/html": [
       "<div>\n",
       "<style scoped>\n",
       "    .dataframe tbody tr th:only-of-type {\n",
       "        vertical-align: middle;\n",
       "    }\n",
       "\n",
       "    .dataframe tbody tr th {\n",
       "        vertical-align: top;\n",
       "    }\n",
       "\n",
       "    .dataframe thead th {\n",
       "        text-align: right;\n",
       "    }\n",
       "</style>\n",
       "<table border=\"1\" class=\"dataframe\">\n",
       "  <thead>\n",
       "    <tr style=\"text-align: right;\">\n",
       "      <th></th>\n",
       "      <th>A+</th>\n",
       "      <th>A</th>\n",
       "      <th>A-</th>\n",
       "      <th>B+</th>\n",
       "      <th>B</th>\n",
       "      <th>B-</th>\n",
       "      <th>C+</th>\n",
       "      <th>C</th>\n",
       "    </tr>\n",
       "  </thead>\n",
       "  <tbody>\n",
       "    <tr>\n",
       "      <th>A+</th>\n",
       "      <td>84</td>\n",
       "      <td>1</td>\n",
       "      <td>0</td>\n",
       "      <td>0</td>\n",
       "      <td>0</td>\n",
       "      <td>0</td>\n",
       "      <td>0</td>\n",
       "      <td>0</td>\n",
       "    </tr>\n",
       "    <tr>\n",
       "      <th>A</th>\n",
       "      <td>0</td>\n",
       "      <td>576</td>\n",
       "      <td>0</td>\n",
       "      <td>0</td>\n",
       "      <td>0</td>\n",
       "      <td>0</td>\n",
       "      <td>0</td>\n",
       "      <td>0</td>\n",
       "    </tr>\n",
       "    <tr>\n",
       "      <th>A-</th>\n",
       "      <td>0</td>\n",
       "      <td>0</td>\n",
       "      <td>482</td>\n",
       "      <td>0</td>\n",
       "      <td>0</td>\n",
       "      <td>0</td>\n",
       "      <td>0</td>\n",
       "      <td>0</td>\n",
       "    </tr>\n",
       "    <tr>\n",
       "      <th>B+</th>\n",
       "      <td>0</td>\n",
       "      <td>0</td>\n",
       "      <td>0</td>\n",
       "      <td>5133</td>\n",
       "      <td>0</td>\n",
       "      <td>0</td>\n",
       "      <td>0</td>\n",
       "      <td>0</td>\n",
       "    </tr>\n",
       "    <tr>\n",
       "      <th>B</th>\n",
       "      <td>0</td>\n",
       "      <td>0</td>\n",
       "      <td>0</td>\n",
       "      <td>0</td>\n",
       "      <td>1032</td>\n",
       "      <td>4</td>\n",
       "      <td>0</td>\n",
       "      <td>0</td>\n",
       "    </tr>\n",
       "    <tr>\n",
       "      <th>B-</th>\n",
       "      <td>0</td>\n",
       "      <td>0</td>\n",
       "      <td>0</td>\n",
       "      <td>0</td>\n",
       "      <td>34</td>\n",
       "      <td>12</td>\n",
       "      <td>0</td>\n",
       "      <td>0</td>\n",
       "    </tr>\n",
       "    <tr>\n",
       "      <th>C+</th>\n",
       "      <td>0</td>\n",
       "      <td>0</td>\n",
       "      <td>0</td>\n",
       "      <td>0</td>\n",
       "      <td>0</td>\n",
       "      <td>0</td>\n",
       "      <td>13</td>\n",
       "      <td>0</td>\n",
       "    </tr>\n",
       "    <tr>\n",
       "      <th>C</th>\n",
       "      <td>0</td>\n",
       "      <td>0</td>\n",
       "      <td>0</td>\n",
       "      <td>0</td>\n",
       "      <td>0</td>\n",
       "      <td>0</td>\n",
       "      <td>1</td>\n",
       "      <td>5</td>\n",
       "    </tr>\n",
       "  </tbody>\n",
       "</table>\n",
       "</div>"
      ],
      "text/plain": [
       "    A+    A   A-    B+     B  B-  C+  C\n",
       "A+  84    1    0     0     0   0   0  0\n",
       "A    0  576    0     0     0   0   0  0\n",
       "A-   0    0  482     0     0   0   0  0\n",
       "B+   0    0    0  5133     0   0   0  0\n",
       "B    0    0    0     0  1032   4   0  0\n",
       "B-   0    0    0     0    34  12   0  0\n",
       "C+   0    0    0     0     0   0  13  0\n",
       "C    0    0    0     0     0   0   1  5"
      ]
     },
     "execution_count": 43,
     "metadata": {},
     "output_type": "execute_result"
    }
   ],
   "source": [
    "rf_cm = pd.DataFrame(confusion_matrix(y, rf_predictions), index=score_lables.keys(), columns=score_lables.keys())\n",
    "rf_cm"
   ]
  },
  {
   "cell_type": "code",
   "execution_count": 44,
   "metadata": {},
   "outputs": [
    {
     "data": {
      "text/plain": [
       "<matplotlib.axes._subplots.AxesSubplot at 0x24a3305c3c8>"
      ]
     },
     "execution_count": 44,
     "metadata": {},
     "output_type": "execute_result"
    },
    {
     "data": {
      "image/png": "[encoded data removed]",
      "text/plain": [
       "<Figure size 576x360 with 2 Axes>"
      ]
     },
     "metadata": {
      "needs_background": "light"
     },
     "output_type": "display_data"
    }
   ],
   "source": [
    "plt.figure(figsize=(8,5))\n",
    "sns.heatmap(rf_cm, vmax=200, vmin=0, annot=True)"
   ]
  },
  {
   "cell_type": "markdown",
   "metadata": {},
   "source": [
    "#### Naive Bayes"
   ]
  },
  {
   "cell_type": "code",
   "execution_count": 45,
   "metadata": {},
   "outputs": [
    {
     "name": "stdout",
     "output_type": "stream",
     "text": [
      "              precision    recall  f1-score   support\n",
      "\n",
      "           0       0.00      0.00      0.00        85\n",
      "           1       0.00      0.00      0.00       576\n",
      "           2       0.00      0.00      0.00       482\n",
      "           3       0.69      0.99      0.82      5133\n",
      "           4       0.00      0.00      0.00      1036\n",
      "           5       0.00      0.00      0.00        46\n",
      "           6       0.00      0.00      0.00        13\n",
      "           7       0.06      0.50      0.10         6\n",
      "\n",
      "   micro avg       0.69      0.69      0.69      7377\n",
      "   macro avg       0.09      0.19      0.11      7377\n",
      "weighted avg       0.48      0.69      0.57      7377\n",
      "\n",
      "The average is 0.6902534905788261\n"
     ]
    },
    {
     "name": "stderr",
     "output_type": "stream",
     "text": [
      "C:\\Users\\angel\\Anaconda\\lib\\site-packages\\sklearn\\metrics\\classification.py:1143: UndefinedMetricWarning: Precision and F-score are ill-defined and being set to 0.0 in labels with no predicted samples.\n",
      "  'precision', 'predicted', average, warn_for)\n",
      "C:\\Users\\angel\\Anaconda\\lib\\site-packages\\sklearn\\metrics\\classification.py:1143: UndefinedMetricWarning: Precision and F-score are ill-defined and being set to 0.0 in labels with no predicted samples.\n",
      "  'precision', 'predicted', average, warn_for)\n",
      "C:\\Users\\angel\\Anaconda\\lib\\site-packages\\sklearn\\metrics\\classification.py:1143: UndefinedMetricWarning: Precision and F-score are ill-defined and being set to 0.0 in labels with no predicted samples.\n",
      "  'precision', 'predicted', average, warn_for)\n"
     ]
    }
   ],
   "source": [
    "## Naive Bayes with Cross Validation of 10-folds\n",
    "nbcv_model = GaussianNB()\n",
    "nbcv_predictions = cross_val_predict(nbcv_model, X, y, cv=6)\n",
    "print(classification_report(y, nbcv_predictions))\n",
    "print(\"The average is\", np.mean(nbcv_predictions == y))"
   ]
  },
  {
   "cell_type": "code",
   "execution_count": 46,
   "metadata": {},
   "outputs": [
    {
     "data": {
      "text/html": [
       "<div>\n",
       "<style scoped>\n",
       "    .dataframe tbody tr th:only-of-type {\n",
       "        vertical-align: middle;\n",
       "    }\n",
       "\n",
       "    .dataframe tbody tr th {\n",
       "        vertical-align: top;\n",
       "    }\n",
       "\n",
       "    .dataframe thead th {\n",
       "        text-align: right;\n",
       "    }\n",
       "</style>\n",
       "<table border=\"1\" class=\"dataframe\">\n",
       "  <thead>\n",
       "    <tr style=\"text-align: right;\">\n",
       "      <th></th>\n",
       "      <th>A+</th>\n",
       "      <th>A</th>\n",
       "      <th>A-</th>\n",
       "      <th>B+</th>\n",
       "      <th>B</th>\n",
       "      <th>B-</th>\n",
       "      <th>C+</th>\n",
       "      <th>C</th>\n",
       "    </tr>\n",
       "  </thead>\n",
       "  <tbody>\n",
       "    <tr>\n",
       "      <th>A+</th>\n",
       "      <td>0</td>\n",
       "      <td>0</td>\n",
       "      <td>0</td>\n",
       "      <td>85</td>\n",
       "      <td>0</td>\n",
       "      <td>0</td>\n",
       "      <td>0</td>\n",
       "      <td>0</td>\n",
       "    </tr>\n",
       "    <tr>\n",
       "      <th>A</th>\n",
       "      <td>0</td>\n",
       "      <td>0</td>\n",
       "      <td>0</td>\n",
       "      <td>573</td>\n",
       "      <td>0</td>\n",
       "      <td>0</td>\n",
       "      <td>0</td>\n",
       "      <td>3</td>\n",
       "    </tr>\n",
       "    <tr>\n",
       "      <th>A-</th>\n",
       "      <td>0</td>\n",
       "      <td>0</td>\n",
       "      <td>0</td>\n",
       "      <td>482</td>\n",
       "      <td>0</td>\n",
       "      <td>0</td>\n",
       "      <td>0</td>\n",
       "      <td>0</td>\n",
       "    </tr>\n",
       "    <tr>\n",
       "      <th>B+</th>\n",
       "      <td>0</td>\n",
       "      <td>0</td>\n",
       "      <td>0</td>\n",
       "      <td>5089</td>\n",
       "      <td>0</td>\n",
       "      <td>0</td>\n",
       "      <td>0</td>\n",
       "      <td>44</td>\n",
       "    </tr>\n",
       "    <tr>\n",
       "      <th>B</th>\n",
       "      <td>0</td>\n",
       "      <td>0</td>\n",
       "      <td>0</td>\n",
       "      <td>1033</td>\n",
       "      <td>0</td>\n",
       "      <td>0</td>\n",
       "      <td>0</td>\n",
       "      <td>3</td>\n",
       "    </tr>\n",
       "    <tr>\n",
       "      <th>B-</th>\n",
       "      <td>0</td>\n",
       "      <td>0</td>\n",
       "      <td>0</td>\n",
       "      <td>46</td>\n",
       "      <td>0</td>\n",
       "      <td>0</td>\n",
       "      <td>0</td>\n",
       "      <td>0</td>\n",
       "    </tr>\n",
       "    <tr>\n",
       "      <th>C+</th>\n",
       "      <td>0</td>\n",
       "      <td>0</td>\n",
       "      <td>0</td>\n",
       "      <td>13</td>\n",
       "      <td>0</td>\n",
       "      <td>0</td>\n",
       "      <td>0</td>\n",
       "      <td>0</td>\n",
       "    </tr>\n",
       "    <tr>\n",
       "      <th>C</th>\n",
       "      <td>0</td>\n",
       "      <td>0</td>\n",
       "      <td>0</td>\n",
       "      <td>3</td>\n",
       "      <td>0</td>\n",
       "      <td>0</td>\n",
       "      <td>0</td>\n",
       "      <td>3</td>\n",
       "    </tr>\n",
       "  </tbody>\n",
       "</table>\n",
       "</div>"
      ],
      "text/plain": [
       "    A+  A  A-    B+  B  B-  C+   C\n",
       "A+   0  0   0    85  0   0   0   0\n",
       "A    0  0   0   573  0   0   0   3\n",
       "A-   0  0   0   482  0   0   0   0\n",
       "B+   0  0   0  5089  0   0   0  44\n",
       "B    0  0   0  1033  0   0   0   3\n",
       "B-   0  0   0    46  0   0   0   0\n",
       "C+   0  0   0    13  0   0   0   0\n",
       "C    0  0   0     3  0   0   0   3"
      ]
     },
     "execution_count": 46,
     "metadata": {},
     "output_type": "execute_result"
    }
   ],
   "source": [
    "nb_cm = pd.DataFrame(confusion_matrix(y, nbcv_predictions), index=score_lables.keys(), columns=score_lables.keys())\n",
    "nb_cm"
   ]
  },
  {
   "cell_type": "code",
   "execution_count": 47,
   "metadata": {},
   "outputs": [
    {
     "data": {
      "text/plain": [
       "<matplotlib.axes._subplots.AxesSubplot at 0x24a2ca24ef0>"
      ]
     },
     "execution_count": 47,
     "metadata": {},
     "output_type": "execute_result"
    },
    {
     "data": {
      "image/png": "[encoded data removed]",
      "text/plain": [
       "<Figure size 576x360 with 2 Axes>"
      ]
     },
     "metadata": {
      "needs_background": "light"
     },
     "output_type": "display_data"
    }
   ],
   "source": [
    "plt.figure(figsize=(8,5))\n",
    "sns.heatmap(nb_cm, vmax=200, vmin=0, annot=True)"
   ]
  },
  {
   "cell_type": "code",
   "execution_count": 48,
   "metadata": {},
   "outputs": [],
   "source": [
    "# linear: y = a1*x1 + a2*x2 + ..."
   ]
  },
  {
   "cell_type": "markdown",
   "metadata": {},
   "source": [
    "#### Finding 'Maturity' Point"
   ]
  },
  {
   "cell_type": "code",
   "execution_count": 49,
   "metadata": {},
   "outputs": [],
   "source": [
    "aging = pd.read_csv('AgingReport.csv')\n",
    "pastdue = pd.read_csv('CategoryPastDue_30June19.csv')"
   ]
  },
  {
   "cell_type": "code",
   "execution_count": 50,
   "metadata": {},
   "outputs": [
    {
     "data": {
      "text/plain": [
       "Index(['No Contract', 'Name', 'Issue Date', 'Loan Amount', 'Maturity',\n",
       "       'CS EKF', 'Sisa Pokok', 'Past Due Category', 'Business Type',\n",
       "       'Bank Branch', 'Province Domicile', 'City'],\n",
       "      dtype='object')"
      ]
     },
     "execution_count": 50,
     "metadata": {},
     "output_type": "execute_result"
    }
   ],
   "source": [
    "pastdue.columns"
   ]
  },
  {
   "cell_type": "code",
   "execution_count": 51,
   "metadata": {},
   "outputs": [],
   "source": [
    "mydata = pd.merge(aging, pastdue, on=['No Contract', 'Loan Amount'])"
   ]
  },
  {
   "cell_type": "code",
   "execution_count": 52,
   "metadata": {},
   "outputs": [
    {
     "data": {
      "text/plain": [
       "(6934, 18)"
      ]
     },
     "execution_count": 52,
     "metadata": {},
     "output_type": "execute_result"
    }
   ],
   "source": [
    "mydata.shape"
   ]
  },
  {
   "cell_type": "code",
   "execution_count": 53,
   "metadata": {},
   "outputs": [
    {
     "data": {
      "text/html": [
       "<div>\n",
       "<style scoped>\n",
       "    .dataframe tbody tr th:only-of-type {\n",
       "        vertical-align: middle;\n",
       "    }\n",
       "\n",
       "    .dataframe tbody tr th {\n",
       "        vertical-align: top;\n",
       "    }\n",
       "\n",
       "    .dataframe thead th {\n",
       "        text-align: right;\n",
       "    }\n",
       "</style>\n",
       "<table border=\"1\" class=\"dataframe\">\n",
       "  <thead>\n",
       "    <tr style=\"text-align: right;\">\n",
       "      <th></th>\n",
       "      <th>No Contract</th>\n",
       "      <th>No Submission of Contract</th>\n",
       "      <th>Maturity Date</th>\n",
       "      <th>Branch</th>\n",
       "      <th>Borrower Name</th>\n",
       "      <th>Lender Name</th>\n",
       "      <th>Loan Amount</th>\n",
       "      <th>Aging</th>\n",
       "      <th>Name</th>\n",
       "      <th>Issue Date</th>\n",
       "      <th>Maturity</th>\n",
       "      <th>CS EKF</th>\n",
       "      <th>Sisa Pokok</th>\n",
       "      <th>Past Due Category</th>\n",
       "      <th>Business Type</th>\n",
       "      <th>Bank Branch</th>\n",
       "      <th>Province Domicile</th>\n",
       "      <th>City</th>\n",
       "    </tr>\n",
       "  </thead>\n",
       "  <tbody>\n",
       "    <tr>\n",
       "      <th>0</th>\n",
       "      <td>SPK180400044</td>\n",
       "      <td>018.0418.0003</td>\n",
       "      <td>12-11-18</td>\n",
       "      <td>PERUMNAS</td>\n",
       "      <td>TITI HIDAYATI</td>\n",
       "      <td>MELIVIA WANGKAR</td>\n",
       "      <td>4,300,000</td>\n",
       "      <td>233</td>\n",
       "      <td>TITI HIDAYATI</td>\n",
       "      <td>04-04-18</td>\n",
       "      <td>40</td>\n",
       "      <td>B</td>\n",
       "      <td>1,290,000</td>\n",
       "      <td>Macet</td>\n",
       "      <td>PERDAGANGAN</td>\n",
       "      <td>PERUMNAS</td>\n",
       "      <td>BANTEN</td>\n",
       "      <td>TANGERANG</td>\n",
       "    </tr>\n",
       "    <tr>\n",
       "      <th>1</th>\n",
       "      <td>SPK180800974</td>\n",
       "      <td>037.0818.0130</td>\n",
       "      <td>19-11-18</td>\n",
       "      <td>JATI ASIH</td>\n",
       "      <td>MARSIH SUSILAWATI</td>\n",
       "      <td>jessica fransisca wijaya</td>\n",
       "      <td>3,300,000</td>\n",
       "      <td>226</td>\n",
       "      <td>MARSIH SUSILAWATI</td>\n",
       "      <td>23-08-18</td>\n",
       "      <td>40</td>\n",
       "      <td>B</td>\n",
       "      <td>2,310,000</td>\n",
       "      <td>Macet</td>\n",
       "      <td>JASA</td>\n",
       "      <td>JATI ASIH</td>\n",
       "      <td>JAWA BARAT</td>\n",
       "      <td>BEKASI</td>\n",
       "    </tr>\n",
       "    <tr>\n",
       "      <th>2</th>\n",
       "      <td>SPK180800084</td>\n",
       "      <td>054.0818.0005</td>\n",
       "      <td>05-12-18</td>\n",
       "      <td>TOBELO</td>\n",
       "      <td>ARMA RORANO</td>\n",
       "      <td>jessica fransisca wijaya</td>\n",
       "      <td>4,300,000</td>\n",
       "      <td>210</td>\n",
       "      <td>ARMA RORANO</td>\n",
       "      <td>03-08-18</td>\n",
       "      <td>40</td>\n",
       "      <td>B</td>\n",
       "      <td>2,580,000</td>\n",
       "      <td>Macet</td>\n",
       "      <td>PERDAGANGAN</td>\n",
       "      <td>TOBELO</td>\n",
       "      <td>MALUKU UTARA</td>\n",
       "      <td>HALMAHERA UTARA</td>\n",
       "    </tr>\n",
       "    <tr>\n",
       "      <th>3</th>\n",
       "      <td>SPK180703584</td>\n",
       "      <td>046.0718.0074</td>\n",
       "      <td>11-12-18</td>\n",
       "      <td>KCP CIPONDOH</td>\n",
       "      <td>RINAWATI</td>\n",
       "      <td>jessica fransisca wijaya</td>\n",
       "      <td>2,300,000</td>\n",
       "      <td>204</td>\n",
       "      <td>RINAWATI</td>\n",
       "      <td>26-07-18</td>\n",
       "      <td>40</td>\n",
       "      <td>B</td>\n",
       "      <td>1,322,500</td>\n",
       "      <td>Macet</td>\n",
       "      <td>PERDAGANGAN</td>\n",
       "      <td>KCP CIPONDOH</td>\n",
       "      <td>DKI JAKARTA</td>\n",
       "      <td>JAKARTA BARAT</td>\n",
       "    </tr>\n",
       "    <tr>\n",
       "      <th>4</th>\n",
       "      <td>SPK180800325</td>\n",
       "      <td>042.0818.0018</td>\n",
       "      <td>11-12-18</td>\n",
       "      <td>KCP INOBONTO</td>\n",
       "      <td>YULIANA TAMALONGGEHE</td>\n",
       "      <td>jessica fransisca wijaya</td>\n",
       "      <td>3,300,000</td>\n",
       "      <td>204</td>\n",
       "      <td>YULIANA TAMALONGGEHE</td>\n",
       "      <td>16-08-18</td>\n",
       "      <td>40</td>\n",
       "      <td>B</td>\n",
       "      <td>2,144,000</td>\n",
       "      <td>Macet</td>\n",
       "      <td>PERDAGANGAN</td>\n",
       "      <td>KCP INOBONTO</td>\n",
       "      <td>SULAWESI UTARA</td>\n",
       "      <td>BOLAANG MONGONDOW</td>\n",
       "    </tr>\n",
       "  </tbody>\n",
       "</table>\n",
       "</div>"
      ],
      "text/plain": [
       "    No Contract No Submission of Contract Maturity Date        Branch  \\\n",
       "0  SPK180400044             018.0418.0003      12-11-18      PERUMNAS   \n",
       "1  SPK180800974             037.0818.0130      19-11-18     JATI ASIH   \n",
       "2  SPK180800084             054.0818.0005      05-12-18        TOBELO   \n",
       "3  SPK180703584             046.0718.0074      11-12-18  KCP CIPONDOH   \n",
       "4  SPK180800325             042.0818.0018      11-12-18  KCP INOBONTO   \n",
       "\n",
       "          Borrower Name               Lender Name Loan Amount Aging  \\\n",
       "0         TITI HIDAYATI           MELIVIA WANGKAR   4,300,000   233   \n",
       "1     MARSIH SUSILAWATI  jessica fransisca wijaya   3,300,000   226   \n",
       "2           ARMA RORANO  jessica fransisca wijaya   4,300,000   210   \n",
       "3              RINAWATI  jessica fransisca wijaya   2,300,000   204   \n",
       "4  YULIANA TAMALONGGEHE  jessica fransisca wijaya   3,300,000   204   \n",
       "\n",
       "                   Name Issue Date  Maturity CS EKF Sisa Pokok  \\\n",
       "0         TITI HIDAYATI   04-04-18        40      B  1,290,000   \n",
       "1     MARSIH SUSILAWATI   23-08-18        40      B  2,310,000   \n",
       "2           ARMA RORANO   03-08-18        40      B  2,580,000   \n",
       "3              RINAWATI   26-07-18        40      B  1,322,500   \n",
       "4  YULIANA TAMALONGGEHE   16-08-18        40      B  2,144,000   \n",
       "\n",
       "  Past Due Category Business Type   Bank Branch Province Domicile  \\\n",
       "0             Macet   PERDAGANGAN      PERUMNAS            BANTEN   \n",
       "1             Macet          JASA     JATI ASIH        JAWA BARAT   \n",
       "2             Macet   PERDAGANGAN        TOBELO      MALUKU UTARA   \n",
       "3             Macet   PERDAGANGAN  KCP CIPONDOH       DKI JAKARTA   \n",
       "4             Macet   PERDAGANGAN  KCP INOBONTO    SULAWESI UTARA   \n",
       "\n",
       "                City  \n",
       "0          TANGERANG  \n",
       "1             BEKASI  \n",
       "2    HALMAHERA UTARA  \n",
       "3      JAKARTA BARAT  \n",
       "4  BOLAANG MONGONDOW  "
      ]
     },
     "execution_count": 53,
     "metadata": {},
     "output_type": "execute_result"
    }
   ],
   "source": [
    "mydata.head()"
   ]
  },
  {
   "cell_type": "code",
   "execution_count": 54,
   "metadata": {},
   "outputs": [
    {
     "data": {
      "text/html": [
       "<div>\n",
       "<style scoped>\n",
       "    .dataframe tbody tr th:only-of-type {\n",
       "        vertical-align: middle;\n",
       "    }\n",
       "\n",
       "    .dataframe tbody tr th {\n",
       "        vertical-align: top;\n",
       "    }\n",
       "\n",
       "    .dataframe thead th {\n",
       "        text-align: right;\n",
       "    }\n",
       "</style>\n",
       "<table border=\"1\" class=\"dataframe\">\n",
       "  <thead>\n",
       "    <tr style=\"text-align: right;\">\n",
       "      <th></th>\n",
       "      <th>No Contract</th>\n",
       "      <th>No Submission of Contract</th>\n",
       "      <th>Maturity Date</th>\n",
       "      <th>Branch</th>\n",
       "      <th>Borrower Name</th>\n",
       "      <th>Lender Name</th>\n",
       "      <th>Loan Amount</th>\n",
       "      <th>Aging</th>\n",
       "      <th>Name</th>\n",
       "      <th>Issue Date</th>\n",
       "      <th>Maturity</th>\n",
       "      <th>CS EKF</th>\n",
       "      <th>Sisa Pokok</th>\n",
       "      <th>Past Due Category</th>\n",
       "      <th>Business Type</th>\n",
       "      <th>Bank Branch</th>\n",
       "      <th>Province Domicile</th>\n",
       "      <th>City</th>\n",
       "    </tr>\n",
       "  </thead>\n",
       "  <tbody>\n",
       "    <tr>\n",
       "      <th>6929</th>\n",
       "      <td>SPK190500935</td>\n",
       "      <td>086.0519.0284</td>\n",
       "      <td>24-07-19</td>\n",
       "      <td>KCP POMAD</td>\n",
       "      <td>NENAH SUHAENAH</td>\n",
       "      <td>KUSMIATI</td>\n",
       "      <td>3,360,000</td>\n",
       "      <td>-</td>\n",
       "      <td>NENAH SUHAENAH</td>\n",
       "      <td>31-05-19</td>\n",
       "      <td>25</td>\n",
       "      <td>C+</td>\n",
       "      <td>3,225,600</td>\n",
       "      <td>Lancar</td>\n",
       "      <td>PERDAGANGAN</td>\n",
       "      <td>KCP POMAD</td>\n",
       "      <td>JAWA BARAT</td>\n",
       "      <td>BOGOR</td>\n",
       "    </tr>\n",
       "    <tr>\n",
       "      <th>6930</th>\n",
       "      <td>SPK190500933</td>\n",
       "      <td>086.0519.0292</td>\n",
       "      <td>24-07-19</td>\n",
       "      <td>KCP POMAD</td>\n",
       "      <td>SRI WAHYUNI</td>\n",
       "      <td>KUSMIATI</td>\n",
       "      <td>4,360,000</td>\n",
       "      <td>-</td>\n",
       "      <td>SRI WAHYUNI</td>\n",
       "      <td>31-05-19</td>\n",
       "      <td>25</td>\n",
       "      <td>C+</td>\n",
       "      <td>4,185,600</td>\n",
       "      <td>Lancar</td>\n",
       "      <td>PERDAGANGAN</td>\n",
       "      <td>KCP POMAD</td>\n",
       "      <td>JAWA BARAT</td>\n",
       "      <td>BOGOR</td>\n",
       "    </tr>\n",
       "    <tr>\n",
       "      <th>6931</th>\n",
       "      <td>SPK190500926</td>\n",
       "      <td>086.0519.0286</td>\n",
       "      <td>24-07-19</td>\n",
       "      <td>KCP POMAD</td>\n",
       "      <td>NOPIANTI</td>\n",
       "      <td>Michael Hidayat Kurniaatmaja</td>\n",
       "      <td>3,360,000</td>\n",
       "      <td>-</td>\n",
       "      <td>NOPIANTI</td>\n",
       "      <td>31-05-19</td>\n",
       "      <td>25</td>\n",
       "      <td>C</td>\n",
       "      <td>3,225,600</td>\n",
       "      <td>Lancar</td>\n",
       "      <td>JASA</td>\n",
       "      <td>KCP POMAD</td>\n",
       "      <td>JAWA BARAT</td>\n",
       "      <td>BOGOR</td>\n",
       "    </tr>\n",
       "    <tr>\n",
       "      <th>6932</th>\n",
       "      <td>SPK190500931</td>\n",
       "      <td>086.0519.0293</td>\n",
       "      <td>24-07-19</td>\n",
       "      <td>KCP POMAD</td>\n",
       "      <td>NURAENI</td>\n",
       "      <td>Michael Hidayat Kurniaatmaja</td>\n",
       "      <td>3,360,000</td>\n",
       "      <td>-</td>\n",
       "      <td>NURAENI</td>\n",
       "      <td>31-05-19</td>\n",
       "      <td>25</td>\n",
       "      <td>C+</td>\n",
       "      <td>3,225,600</td>\n",
       "      <td>Lancar</td>\n",
       "      <td>PERDAGANGAN</td>\n",
       "      <td>KCP POMAD</td>\n",
       "      <td>JAWA BARAT</td>\n",
       "      <td>BOGOR</td>\n",
       "    </tr>\n",
       "    <tr>\n",
       "      <th>6933</th>\n",
       "      <td>SPK190500952</td>\n",
       "      <td>086.0519.0295</td>\n",
       "      <td>24-07-19</td>\n",
       "      <td>KCP POMAD</td>\n",
       "      <td>EVI ANDRIYANTI</td>\n",
       "      <td>Suryana CH Jamhur</td>\n",
       "      <td>3,360,000</td>\n",
       "      <td>-</td>\n",
       "      <td>EVI ANDRIYANTI</td>\n",
       "      <td>31-05-19</td>\n",
       "      <td>25</td>\n",
       "      <td>C+</td>\n",
       "      <td>3,225,600</td>\n",
       "      <td>Lancar</td>\n",
       "      <td>PERDAGANGAN</td>\n",
       "      <td>KCP POMAD</td>\n",
       "      <td>JAWA BARAT</td>\n",
       "      <td>BOGOR</td>\n",
       "    </tr>\n",
       "  </tbody>\n",
       "</table>\n",
       "</div>"
      ],
      "text/plain": [
       "       No Contract No Submission of Contract Maturity Date     Branch  \\\n",
       "6929  SPK190500935             086.0519.0284      24-07-19  KCP POMAD   \n",
       "6930  SPK190500933             086.0519.0292      24-07-19  KCP POMAD   \n",
       "6931  SPK190500926             086.0519.0286      24-07-19  KCP POMAD   \n",
       "6932  SPK190500931             086.0519.0293      24-07-19  KCP POMAD   \n",
       "6933  SPK190500952             086.0519.0295      24-07-19  KCP POMAD   \n",
       "\n",
       "       Borrower Name                   Lender Name Loan Amount Aging  \\\n",
       "6929  NENAH SUHAENAH                      KUSMIATI   3,360,000    -    \n",
       "6930     SRI WAHYUNI                      KUSMIATI   4,360,000    -    \n",
       "6931        NOPIANTI  Michael Hidayat Kurniaatmaja   3,360,000    -    \n",
       "6932         NURAENI  Michael Hidayat Kurniaatmaja   3,360,000    -    \n",
       "6933  EVI ANDRIYANTI             Suryana CH Jamhur   3,360,000    -    \n",
       "\n",
       "                Name Issue Date  Maturity CS EKF Sisa Pokok Past Due Category  \\\n",
       "6929  NENAH SUHAENAH   31-05-19        25     C+  3,225,600            Lancar   \n",
       "6930     SRI WAHYUNI   31-05-19        25     C+  4,185,600            Lancar   \n",
       "6931        NOPIANTI   31-05-19        25      C  3,225,600            Lancar   \n",
       "6932         NURAENI   31-05-19        25     C+  3,225,600            Lancar   \n",
       "6933  EVI ANDRIYANTI   31-05-19        25     C+  3,225,600            Lancar   \n",
       "\n",
       "     Business Type Bank Branch Province Domicile   City  \n",
       "6929   PERDAGANGAN   KCP POMAD        JAWA BARAT  BOGOR  \n",
       "6930   PERDAGANGAN   KCP POMAD        JAWA BARAT  BOGOR  \n",
       "6931          JASA   KCP POMAD        JAWA BARAT  BOGOR  \n",
       "6932   PERDAGANGAN   KCP POMAD        JAWA BARAT  BOGOR  \n",
       "6933   PERDAGANGAN   KCP POMAD        JAWA BARAT  BOGOR  "
      ]
     },
     "execution_count": 54,
     "metadata": {},
     "output_type": "execute_result"
    }
   ],
   "source": [
    "mydata.tail()"
   ]
  },
  {
   "cell_type": "code",
   "execution_count": 55,
   "metadata": {},
   "outputs": [
    {
     "data": {
      "text/plain": [
       "No Contract                  0\n",
       "No Submission of Contract    0\n",
       "Maturity Date                0\n",
       "Branch                       0\n",
       "Borrower Name                0\n",
       "Lender Name                  0\n",
       "Loan Amount                  0\n",
       "Aging                        0\n",
       "Name                         0\n",
       "Issue Date                   0\n",
       "Maturity                     0\n",
       "CS EKF                       0\n",
       "Sisa Pokok                   0\n",
       "Past Due Category            0\n",
       "Business Type                0\n",
       "Bank Branch                  0\n",
       "Province Domicile            0\n",
       "City                         0\n",
       "dtype: int64"
      ]
     },
     "execution_count": 55,
     "metadata": {},
     "output_type": "execute_result"
    }
   ],
   "source": [
    "mydata.isnull().sum()"
   ]
  },
  {
   "cell_type": "code",
   "execution_count": 56,
   "metadata": {},
   "outputs": [
    {
     "name": "stdout",
     "output_type": "stream",
     "text": [
      "<class 'pandas.core.frame.DataFrame'>\n",
      "Int64Index: 6934 entries, 0 to 6933\n",
      "Data columns (total 18 columns):\n",
      "No Contract                  6934 non-null object\n",
      "No Submission of Contract    6934 non-null object\n",
      "Maturity Date                6934 non-null object\n",
      "Branch                       6934 non-null object\n",
      "Borrower Name                6934 non-null object\n",
      "Lender Name                  6934 non-null object\n",
      "Loan Amount                  6934 non-null object\n",
      "Aging                        6934 non-null object\n",
      "Name                         6934 non-null object\n",
      "Issue Date                   6934 non-null object\n",
      "Maturity                     6934 non-null int64\n",
      "CS EKF                       6934 non-null object\n",
      "Sisa Pokok                   6934 non-null object\n",
      "Past Due Category            6934 non-null object\n",
      "Business Type                6934 non-null object\n",
      "Bank Branch                  6934 non-null object\n",
      "Province Domicile            6934 non-null object\n",
      "City                         6934 non-null object\n",
      "dtypes: int64(1), object(17)\n",
      "memory usage: 1.0+ MB\n"
     ]
    }
   ],
   "source": [
    "mydata.info()"
   ]
  },
  {
   "cell_type": "code",
   "execution_count": 57,
   "metadata": {},
   "outputs": [],
   "source": [
    "mydata.drop(['No Contract', 'Lender Name', 'Borrower Name', 'Name', 'No Submission of Contract', \n",
    "           'Issue Date', 'Maturity Date', 'Bank Branch'], axis=1, inplace=True)"
   ]
  },
  {
   "cell_type": "code",
   "execution_count": 58,
   "metadata": {},
   "outputs": [
    {
     "name": "stdout",
     "output_type": "stream",
     "text": [
      "<class 'pandas.core.frame.DataFrame'>\n",
      "Int64Index: 6934 entries, 0 to 6933\n",
      "Data columns (total 10 columns):\n",
      "Branch               6934 non-null object\n",
      "Loan Amount          6934 non-null object\n",
      "Aging                6934 non-null object\n",
      "Maturity             6934 non-null int64\n",
      "CS EKF               6934 non-null object\n",
      "Sisa Pokok           6934 non-null object\n",
      "Past Due Category    6934 non-null object\n",
      "Business Type        6934 non-null object\n",
      "Province Domicile    6934 non-null object\n",
      "City                 6934 non-null object\n",
      "dtypes: int64(1), object(9)\n",
      "memory usage: 595.9+ KB\n"
     ]
    }
   ],
   "source": [
    "mydata.info()"
   ]
  },
  {
   "cell_type": "code",
   "execution_count": 59,
   "metadata": {},
   "outputs": [],
   "source": [
    "mydata['Loan Amount'] = mydata['Loan Amount'].str.replace(',', '').astype(int)"
   ]
  },
  {
   "cell_type": "code",
   "execution_count": 60,
   "metadata": {},
   "outputs": [],
   "source": [
    "mydata['Aging'] = mydata['Aging'].replace({' - ': 0}).astype(int)"
   ]
  },
  {
   "cell_type": "code",
   "execution_count": 61,
   "metadata": {},
   "outputs": [
    {
     "data": {
      "text/html": [
       "<div>\n",
       "<style scoped>\n",
       "    .dataframe tbody tr th:only-of-type {\n",
       "        vertical-align: middle;\n",
       "    }\n",
       "\n",
       "    .dataframe tbody tr th {\n",
       "        vertical-align: top;\n",
       "    }\n",
       "\n",
       "    .dataframe thead th {\n",
       "        text-align: right;\n",
       "    }\n",
       "</style>\n",
       "<table border=\"1\" class=\"dataframe\">\n",
       "  <thead>\n",
       "    <tr style=\"text-align: right;\">\n",
       "      <th></th>\n",
       "      <th>Aging</th>\n",
       "      <th>Maturity</th>\n",
       "      <th>Loan Amount</th>\n",
       "    </tr>\n",
       "  </thead>\n",
       "  <tbody>\n",
       "    <tr>\n",
       "      <th>Aging</th>\n",
       "      <td>1.000000</td>\n",
       "      <td>0.025059</td>\n",
       "      <td>-0.119765</td>\n",
       "    </tr>\n",
       "    <tr>\n",
       "      <th>Maturity</th>\n",
       "      <td>0.025059</td>\n",
       "      <td>1.000000</td>\n",
       "      <td>0.040588</td>\n",
       "    </tr>\n",
       "    <tr>\n",
       "      <th>Loan Amount</th>\n",
       "      <td>-0.119765</td>\n",
       "      <td>0.040588</td>\n",
       "      <td>1.000000</td>\n",
       "    </tr>\n",
       "  </tbody>\n",
       "</table>\n",
       "</div>"
      ],
      "text/plain": [
       "                Aging  Maturity  Loan Amount\n",
       "Aging        1.000000  0.025059    -0.119765\n",
       "Maturity     0.025059  1.000000     0.040588\n",
       "Loan Amount -0.119765  0.040588     1.000000"
      ]
     },
     "execution_count": 61,
     "metadata": {},
     "output_type": "execute_result"
    }
   ],
   "source": [
    "mydata[['Aging', 'Maturity', 'Loan Amount']].corr()"
   ]
  },
  {
   "cell_type": "code",
   "execution_count": 62,
   "metadata": {},
   "outputs": [
    {
     "data": {
      "text/plain": [
       "JAWA BARAT           4076\n",
       "SULAWESI SELATAN     1068\n",
       "BANTEN                602\n",
       "GORONTALO             549\n",
       "SULAWESI UTARA        316\n",
       "DKI JAKARTA           278\n",
       "SULAWESI TENGGARA      36\n",
       "MALUKU UTARA            9\n",
       "Name: Province Domicile, dtype: int64"
      ]
     },
     "execution_count": 62,
     "metadata": {},
     "output_type": "execute_result"
    }
   ],
   "source": [
    "mydata['Province Domicile'].value_counts()"
   ]
  },
  {
   "cell_type": "code",
   "execution_count": 63,
   "metadata": {},
   "outputs": [],
   "source": [
    "mydata_num = mydata.copy()"
   ]
  },
  {
   "cell_type": "code",
   "execution_count": 64,
   "metadata": {},
   "outputs": [],
   "source": [
    "## Convert CS EKF value into interger data type\n",
    "province_labels = {'JAWA BARAT': 1, 'SULAWESI SELATAN': 2, 'BANTEN': 3, 'GORONTALO': 4, 'SULAWESI UTARA': 5, 'DKI JAKARTA': 6, 'SULAWESI TENGGARA': 7, 'MALUKU UTARA': 8}\n",
    "mydata_num['Province Domicile'] = mydata['Province Domicile'].replace(province_labels).astype(int)"
   ]
  },
  {
   "cell_type": "code",
   "execution_count": 65,
   "metadata": {},
   "outputs": [
    {
     "data": {
      "text/plain": [
       "1    4076\n",
       "2    1068\n",
       "3     602\n",
       "4     549\n",
       "5     316\n",
       "6     278\n",
       "7      36\n",
       "8       9\n",
       "Name: Province Domicile, dtype: int64"
      ]
     },
     "execution_count": 65,
     "metadata": {},
     "output_type": "execute_result"
    }
   ],
   "source": [
    "mydata_num['Province Domicile'].value_counts()"
   ]
  },
  {
   "cell_type": "code",
   "execution_count": 66,
   "metadata": {},
   "outputs": [],
   "source": [
    "mydata_num.loc[:, mydata_num.dtypes == 'object'] = mydata_num.loc[:, mydata_num.dtypes == 'object'].apply(lambda x: LabelEncoder().fit_transform(x), axis=0)"
   ]
  },
  {
   "cell_type": "code",
   "execution_count": 67,
   "metadata": {},
   "outputs": [
    {
     "data": {
      "text/plain": [
       "<matplotlib.axes._subplots.AxesSubplot at 0x24a2b7a4550>"
      ]
     },
     "execution_count": 67,
     "metadata": {},
     "output_type": "execute_result"
    },
    {
     "data": {
      "image/png": "[encoded data removed]",
      "text/plain": [
       "<Figure size 576x576 with 2 Axes>"
      ]
     },
     "metadata": {
      "needs_background": "light"
     },
     "output_type": "display_data"
    }
   ],
   "source": [
    "plt.figure(figsize=(8,8))\n",
    "mydatacorr = mydata_num.corr()\n",
    "sns.heatmap(mydatacorr, vmin=-1, vmax=1, cmap=sns.color_palette(\"RdBu_r\", 30), annot=True, fmt='.2f')"
   ]
  },
  {
   "cell_type": "code",
   "execution_count": 68,
   "metadata": {},
   "outputs": [
    {
     "data": {
      "text/plain": [
       "<matplotlib.axes._subplots.AxesSubplot at 0x24a2ca1a550>"
      ]
     },
     "execution_count": 68,
     "metadata": {},
     "output_type": "execute_result"
    },
    {
     "data": {
      "image/png": "[encoded data removed]",
      "text/plain": [
       "<Figure size 360x360 with 1 Axes>"
      ]
     },
     "metadata": {
      "needs_background": "light"
     },
     "output_type": "display_data"
    }
   ],
   "source": [
    "mydatacorr['Aging'].sort_values().to_frame().plot(kind='barh', figsize=(5,5))"
   ]
  },
  {
   "cell_type": "code",
   "execution_count": 69,
   "metadata": {},
   "outputs": [
    {
     "data": {
      "text/plain": [
       "Lancar           6803\n",
       "Macet             113\n",
       "Kurang Lancar      12\n",
       "Tidak Lancar        6\n",
       "Name: Past Due Category, dtype: int64"
      ]
     },
     "execution_count": 69,
     "metadata": {},
     "output_type": "execute_result"
    }
   ],
   "source": [
    "mydata['Past Due Category'].value_counts()"
   ]
  },
  {
   "cell_type": "code",
   "execution_count": 70,
   "metadata": {},
   "outputs": [
    {
     "data": {
      "text/plain": [
       "<matplotlib.axes._subplots.AxesSubplot at 0x24a335abf28>"
      ]
     },
     "execution_count": 70,
     "metadata": {},
     "output_type": "execute_result"
    },
    {
     "data": {
      "image/png": "[encoded data removed]",
      "text/plain": [
       "<Figure size 432x288 with 1 Axes>"
      ]
     },
     "metadata": {
      "needs_background": "light"
     },
     "output_type": "display_data"
    }
   ],
   "source": [
    "sns.boxplot(x='Past Due Category', y='Aging', data=mydata)"
   ]
  },
  {
   "cell_type": "code",
   "execution_count": 71,
   "metadata": {},
   "outputs": [
    {
     "data": {
      "text/html": [
       "<div>\n",
       "<style scoped>\n",
       "    .dataframe tbody tr th:only-of-type {\n",
       "        vertical-align: middle;\n",
       "    }\n",
       "\n",
       "    .dataframe tbody tr th {\n",
       "        vertical-align: top;\n",
       "    }\n",
       "\n",
       "    .dataframe thead th {\n",
       "        text-align: right;\n",
       "    }\n",
       "</style>\n",
       "<table border=\"1\" class=\"dataframe\">\n",
       "  <thead>\n",
       "    <tr style=\"text-align: right;\">\n",
       "      <th></th>\n",
       "      <th>count</th>\n",
       "      <th>mean</th>\n",
       "      <th>std</th>\n",
       "      <th>min</th>\n",
       "      <th>25%</th>\n",
       "      <th>50%</th>\n",
       "      <th>75%</th>\n",
       "      <th>max</th>\n",
       "    </tr>\n",
       "    <tr>\n",
       "      <th>Past Due Category</th>\n",
       "      <th></th>\n",
       "      <th></th>\n",
       "      <th></th>\n",
       "      <th></th>\n",
       "      <th></th>\n",
       "      <th></th>\n",
       "      <th></th>\n",
       "      <th></th>\n",
       "    </tr>\n",
       "  </thead>\n",
       "  <tbody>\n",
       "    <tr>\n",
       "      <th>Kurang Lancar</th>\n",
       "      <td>12.0</td>\n",
       "      <td>49.500000</td>\n",
       "      <td>9.337120</td>\n",
       "      <td>40.0</td>\n",
       "      <td>41.00</td>\n",
       "      <td>46.5</td>\n",
       "      <td>57.25</td>\n",
       "      <td>64.0</td>\n",
       "    </tr>\n",
       "    <tr>\n",
       "      <th>Lancar</th>\n",
       "      <td>6803.0</td>\n",
       "      <td>0.122299</td>\n",
       "      <td>0.763610</td>\n",
       "      <td>0.0</td>\n",
       "      <td>0.00</td>\n",
       "      <td>0.0</td>\n",
       "      <td>0.00</td>\n",
       "      <td>16.0</td>\n",
       "    </tr>\n",
       "    <tr>\n",
       "      <th>Macet</th>\n",
       "      <td>113.0</td>\n",
       "      <td>152.893805</td>\n",
       "      <td>27.539051</td>\n",
       "      <td>98.0</td>\n",
       "      <td>133.00</td>\n",
       "      <td>154.0</td>\n",
       "      <td>173.00</td>\n",
       "      <td>233.0</td>\n",
       "    </tr>\n",
       "    <tr>\n",
       "      <th>Tidak Lancar</th>\n",
       "      <td>6.0</td>\n",
       "      <td>81.666667</td>\n",
       "      <td>6.947422</td>\n",
       "      <td>72.0</td>\n",
       "      <td>77.75</td>\n",
       "      <td>83.0</td>\n",
       "      <td>83.75</td>\n",
       "      <td>92.0</td>\n",
       "    </tr>\n",
       "  </tbody>\n",
       "</table>\n",
       "</div>"
      ],
      "text/plain": [
       "                    count        mean        std   min     25%    50%     75%  \\\n",
       "Past Due Category                                                               \n",
       "Kurang Lancar        12.0   49.500000   9.337120  40.0   41.00   46.5   57.25   \n",
       "Lancar             6803.0    0.122299   0.763610   0.0    0.00    0.0    0.00   \n",
       "Macet               113.0  152.893805  27.539051  98.0  133.00  154.0  173.00   \n",
       "Tidak Lancar          6.0   81.666667   6.947422  72.0   77.75   83.0   83.75   \n",
       "\n",
       "                     max  \n",
       "Past Due Category         \n",
       "Kurang Lancar       64.0  \n",
       "Lancar              16.0  \n",
       "Macet              233.0  \n",
       "Tidak Lancar        92.0  "
      ]
     },
     "execution_count": 71,
     "metadata": {},
     "output_type": "execute_result"
    }
   ],
   "source": [
    "mydata.groupby('Past Due Category')['Aging'].describe()"
   ]
  },
  {
   "cell_type": "code",
   "execution_count": 72,
   "metadata": {},
   "outputs": [
    {
     "data": {
      "text/plain": [
       "3    0.695811\n",
       "4    0.140436\n",
       "1    0.078081\n",
       "2    0.065338\n",
       "0    0.011522\n",
       "5    0.006236\n",
       "6    0.001762\n",
       "7    0.000813\n",
       "Name: CS EKF, dtype: float64"
      ]
     },
     "execution_count": 72,
     "metadata": {},
     "output_type": "execute_result"
    }
   ],
   "source": [
    "y.value_counts(normalize=True)"
   ]
  },
  {
   "cell_type": "code",
   "execution_count": 73,
   "metadata": {},
   "outputs": [
    {
     "data": {
      "image/png": "[encoded data removed]",
      "text/plain": [
       "<Figure size 1800x360 with 1 Axes>"
      ]
     },
     "metadata": {
      "needs_background": "light"
     },
     "output_type": "display_data"
    }
   ],
   "source": [
    "plt.figure(figsize=(25,5))\n",
    "sns.boxplot(x='Branch', y='Aging', data=mydata)\n",
    "plt.xticks(rotation=90);"
   ]
  },
  {
   "cell_type": "code",
   "execution_count": 74,
   "metadata": {},
   "outputs": [
    {
     "data": {
      "image/png": "[encoded data removed]",
      "text/plain": [
       "<Figure size 1800x360 with 1 Axes>"
      ]
     },
     "metadata": {
      "needs_background": "light"
     },
     "output_type": "display_data"
    }
   ],
   "source": [
    "mydata.groupby('Branch')['Aging'].mean().sort_values(ascending=False).to_frame().plot(kind='bar', figsize=(25,5))\n",
    "plt.xticks(rotation=90);"
   ]
  }
 ],
 "metadata": {
  "kernelspec": {
   "display_name": "Python 3",
   "language": "python",
   "name": "python3"
  },
  "language_info": {
   "codemirror_mode": {
    "name": "ipython",
    "version": 3
   },
   "file_extension": ".py",
   "mimetype": "text/x-python",
   "name": "python",
   "nbconvert_exporter": "python",
   "pygments_lexer": "ipython3",
   "version": "3.7.3"
  }
 },
 "nbformat": 4,
 "nbformat_minor": 2
}
